{
  "nbformat_minor": 0, 
  "nbformat": 4, 
  "cells": [
    {
      "execution_count": null, 
      "cell_type": "code", 
      "source": [
        "%matplotlib inline"
      ], 
      "outputs": [], 
      "metadata": {
        "collapsed": false
      }
    }, 
    {
      "source": [
        "\n# Community and Crime\n\n\nThis is a real dataset of per capita violent crime, with demographic\ndata comprising 128 attributes from 1994 counties in the US.\n\nThe original dataset can be found here:\nhttp://archive.ics.uci.edu/ml/datasets/Communities+and+Crime\n\nThe target variables (per capita violent crime) are normalized to lie in\na [0, 1] range. We preprocessed this dataset to exclude attributes with\nmissing values.\n"
      ], 
      "cell_type": "markdown", 
      "metadata": {}
    }, 
    {
      "execution_count": null, 
      "cell_type": "code", 
      "source": [
        "# Author: Vinicius Marques <vini.type@gmail.com>\n# License: MIT"
      ], 
      "outputs": [], 
      "metadata": {
        "collapsed": false
      }
    }, 
    {
      "source": [
        "Imports\n"
      ], 
      "cell_type": "markdown", 
      "metadata": {}
    }, 
    {
      "execution_count": null, 
      "cell_type": "code", 
      "source": [
        "import numpy as np\nimport matplotlib.pyplot as plt\nfrom sklearn.cross_validation import train_test_split\nfrom pyglmnet import GLM, datasets"
      ], 
      "outputs": [], 
      "metadata": {
        "collapsed": false
      }
    }, 
    {
      "source": [
        "Download and preprocess data files\n"
      ], 
      "cell_type": "markdown", 
      "metadata": {}
    }, 
    {
      "execution_count": null, 
      "cell_type": "code", 
      "source": [
        "X, y = datasets.fetch_community_crime_data('/tmp/glm-tools')\nn_samples, n_features = X.shape"
      ], 
      "outputs": [], 
      "metadata": {
        "collapsed": false
      }
    }, 
    {
      "source": [
        "Split the data into training and test sets\n"
      ], 
      "cell_type": "markdown", 
      "metadata": {}
    }, 
    {
      "execution_count": null, 
      "cell_type": "code", 
      "source": [
        "X_train, X_test, y_train, y_test = \\\n    train_test_split(X, y, test_size=0.33, random_state=0)"
      ], 
      "outputs": [], 
      "metadata": {
        "collapsed": false
      }
    }, 
    {
      "source": [
        "Fit a gaussian distributed GLM with elastic net regularization\n"
      ], 
      "cell_type": "markdown", 
      "metadata": {}
    }, 
    {
      "execution_count": null, 
      "cell_type": "code", 
      "source": [
        "# use the default value for reg_lambda\nglm = GLM(distr='gaussian', alpha=0.05, score_metric='pseudo_R2')\n\n# fit model\nglm.fit(X_train, y_train)\n\n# score the test set prediction\ny_test_hat = glm[-1].predict(X_test)\nprint (\"test set pseudo $R^2$ = %f\" % glm[-1].score(X_test, y_test))"
      ], 
      "outputs": [], 
      "metadata": {
        "collapsed": false
      }
    }, 
    {
      "source": [
        "Plot the true and predicted test set target values\n"
      ], 
      "cell_type": "markdown", 
      "metadata": {}
    }, 
    {
      "execution_count": null, 
      "cell_type": "code", 
      "source": [
        "plt.plot(y_test[:50], 'ko-')\nplt.plot(y_test_hat[:50], 'ro-')\nplt.legend(['true', 'pred'], frameon=False)\nplt.xlabel('Counties')\nplt.ylabel('Per capita violent crime')\n\nplt.tick_params(axis='y', right='off')\nplt.tick_params(axis='x', top='off')\nax = plt.gca()\nax.spines['top'].set_visible(False)\nax.spines['right'].set_visible(False)\nplt.show()"
      ], 
      "outputs": [], 
      "metadata": {
        "collapsed": false
      }
    }
  ], 
  "metadata": {
    "kernelspec": {
      "display_name": "Python 2", 
      "name": "python2", 
      "language": "python"
    }, 
    "language_info": {
      "mimetype": "text/x-python", 
      "nbconvert_exporter": "python", 
      "name": "python", 
      "file_extension": ".py", 
      "version": "2.7.11", 
      "pygments_lexer": "ipython2", 
      "codemirror_mode": {
        "version": 2, 
        "name": "ipython"
      }
    }
  }
}
{
  "nbformat_minor": 0, 
  "nbformat": 4, 
  "cells": [
    {
      "execution_count": null, 
      "cell_type": "code", 
      "source": [
        "%matplotlib inline"
      ], 
      "outputs": [], 
      "metadata": {
        "collapsed": false
      }
    }, 
    {
      "source": [
        "\n# Group Lasso Regularization\n\n\nThis is an example demonstrating Pyglmnet with group lasso regularization,\ntypical in regression problems where it is reasonable to impose penalties\nto model parameters in a group-wise fashion based on domain knowledge.\n\n"
      ], 
      "cell_type": "markdown", 
      "metadata": {}
    }, 
    {
      "execution_count": null, 
      "cell_type": "code", 
      "source": [
        "# Author: Matthew Antalek <matthew.antalek@northwestern.edu>\n# License: MIT"
      ], 
      "outputs": [], 
      "metadata": {
        "collapsed": false
      }
    }, 
    {
      "execution_count": null, 
      "cell_type": "code", 
      "source": [
        "from pyglmnet import GLMCV\nfrom pyglmnet.datasets import fetch_group_lasso_datasets\nimport matplotlib.pyplot as plt"
      ], 
      "outputs": [], 
      "metadata": {
        "collapsed": false
      }
    }, 
    {
      "source": [
        "\nGroup Lasso Example\napplied to the same dataset found in:\nftp://ftp.stat.math.ethz.ch/Manuscripts/buhlmann/lukas-sara-peter.pdf\n\nThe task here is to determine which base pairs and positions within a 7-mer\nsequence are predictive of whether the sequence contains a splice\nsite or not.\n\n"
      ], 
      "cell_type": "markdown", 
      "metadata": {}
    }, 
    {
      "source": [
        "Read and preprocess data\n"
      ], 
      "cell_type": "markdown", 
      "metadata": {}
    }, 
    {
      "execution_count": null, 
      "cell_type": "code", 
      "source": [
        "df, group_idxs = fetch_group_lasso_datasets()\nprint(df.head())"
      ], 
      "outputs": [], 
      "metadata": {
        "collapsed": false
      }
    }, 
    {
      "source": [
        "Set up the training and testing sets\n"
      ], 
      "cell_type": "markdown", 
      "metadata": {}
    }, 
    {
      "execution_count": null, 
      "cell_type": "code", 
      "source": [
        "from sklearn.cross_validation import train_test_split # noqa\n\nX = df[df.columns.difference([\"Label\"])].values\ny = df.loc[:, \"Label\"].values\n\nXtrain, Xtest, ytrain, ytest = \\\n    train_test_split(X, y, test_size=0.2, random_state=42)"
      ], 
      "outputs": [], 
      "metadata": {
        "collapsed": false
      }
    }, 
    {
      "source": [
        "Setup the models\n"
      ], 
      "cell_type": "markdown", 
      "metadata": {}
    }, 
    {
      "execution_count": null, 
      "cell_type": "code", 
      "source": [
        "# set up the group lasso GLM model\ngl_glm = GLMCV(distr=\"binomial\", tol=1e-2,\n               group=group_idxs, score_metric=\"pseudo_R2\",\n               alpha=1.0)\n\n\n# set up the lasso model\nglm = GLMCV(distr=\"binomial\", tol=1e-2,\n            score_metric=\"pseudo_R2\", alpha=1.0)\n\nprint(\"gl_glm: \", gl_glm)\nprint(\"glm: \", glm)"
      ], 
      "outputs": [], 
      "metadata": {
        "collapsed": false
      }
    }, 
    {
      "source": [
        "Fit models\n"
      ], 
      "cell_type": "markdown", 
      "metadata": {}
    }, 
    {
      "execution_count": null, 
      "cell_type": "code", 
      "source": [
        "gl_glm.fit(Xtrain, ytrain)\nglm.fit(Xtrain, ytrain)"
      ], 
      "outputs": [], 
      "metadata": {
        "collapsed": false
      }
    }, 
    {
      "source": [
        "Visualize model scores on test set\n"
      ], 
      "cell_type": "markdown", 
      "metadata": {}
    }, 
    {
      "execution_count": null, 
      "cell_type": "code", 
      "source": [
        "plt.figure()\nplt.semilogx(gl_glm.reg_lambda, gl_glm.scores_, 'go-')\nplt.semilogx(glm.reg_lambda, glm.scores_, 'ro--')\nplt.legend(['Group Lasso', 'Lasso'], frameon=False,\n           loc='best')\nplt.xlabel('$\\lambda$')\nplt.ylabel('pseudo-$R^2$')\n\nplt.tick_params(axis='y', right='off')\nplt.tick_params(axis='x', top='off')\nax = plt.gca()\nax.spines['top'].set_visible(False)\nax.spines['right'].set_visible(False)\nplt.show()"
      ], 
      "outputs": [], 
      "metadata": {
        "collapsed": false
      }
    }
  ], 
  "metadata": {
    "kernelspec": {
      "display_name": "Python 2", 
      "name": "python2", 
      "language": "python"
    }, 
    "language_info": {
      "mimetype": "text/x-python", 
      "nbconvert_exporter": "python", 
      "name": "python", 
      "file_extension": ".py", 
      "version": "2.7.13", 
      "pygments_lexer": "ipython2", 
      "codemirror_mode": {
        "version": 2, 
        "name": "ipython"
      }
    }
  }
}
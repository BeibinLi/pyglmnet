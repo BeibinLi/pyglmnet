{
  "nbformat_minor": 0, 
  "nbformat": 4, 
  "cells": [
    {
      "execution_count": null, 
      "cell_type": "code", 
      "source": [
        "%matplotlib inline"
      ], 
      "outputs": [], 
      "metadata": {
        "collapsed": false
      }
    }, 
    {
      "source": [
        "\n# GLM for Poisson distribution\n\nThis is an example demonstrating how Pyglmnet works.\n\n"
      ], 
      "cell_type": "markdown", 
      "metadata": {}
    }, 
    {
      "execution_count": null, 
      "cell_type": "code", 
      "source": [
        "# Author: Pavan Ramkumar\n# License: MIT\n\nimport numpy as np\nfrom sklearn.preprocessing import StandardScaler\nimport scipy.sparse as sps\nfrom scipy.special import expit\nimport matplotlib.pyplot as plt"
      ], 
      "outputs": [], 
      "metadata": {
        "collapsed": false
      }
    }, 
    {
      "source": [
        "Here are inputs that you can provide when you instantiate the `GLM` class.\nIf not provided, it will be set to the respective defaults\n\n- `distr`: str, `'poisson'` or `'normal'` or `'binomial'` or `'multinomial'`\n    default: `'poisson'`\n- `alpha`: float, the weighting between L1 and L2 norm, default: 0.5\n- `reg_lambda`: array, array of regularized parameters,\n    default: `np.logspace(np.log(0.5), np.log(0.01), 10, base=np.exp(1))`\n- `learning_rate`: float, learning rate for gradient descent,\n    default: 1e-4\n- `max_iter`: int, maximum iteration for the model, default: 100\n"
      ], 
      "cell_type": "markdown", 
      "metadata": {}
    }, 
    {
      "execution_count": null, 
      "cell_type": "code", 
      "source": [
        "# import GLM model\nfrom pyglmnet import GLM\n\n# create regularize parameters for model\nreg_lambda = np.logspace(np.log(0.5), np.log(0.01), 10, base=np.exp(1))\nmodel = GLM(distr='poisson', verbose=False, alpha=0.05,\n            max_iter=1000, learning_rate=1e-4,\n            reg_lambda=reg_lambda)"
      ], 
      "outputs": [], 
      "metadata": {
        "collapsed": false
      }
    }, 
    {
      "source": [
        "Simulate a dataset\n------------------\nThe ``GLM`` class has a very useful method called ``simulate()``.\n\nSince a canonical link function is already specified by the distribution\nparameters, or provided by the user, ``simulate()`` requires\nonly the independent variables ``X`` and the coefficients ``beta0``\nand ``beta``\n"
      ], 
      "cell_type": "markdown", 
      "metadata": {}
    }
  ], 
  "metadata": {
    "kernelspec": {
      "display_name": "Python 2", 
      "name": "python2", 
      "language": "python"
    }, 
    "language_info": {
      "mimetype": "text/x-python", 
      "nbconvert_exporter": "python", 
      "name": "python", 
      "file_extension": ".py", 
      "version": "2.7.11", 
      "pygments_lexer": "ipython2", 
      "codemirror_mode": {
        "version": 2, 
        "name": "ipython"
      }
    }
  }
}
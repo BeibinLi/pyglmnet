{
  "metadata": {
    "kernelspec": {
      "language": "python",
      "name": "python3",
      "display_name": "Python 3"
    },
    "language_info": {
      "mimetype": "text/x-python",
      "version": "3.5.1",
      "nbconvert_exporter": "python",
      "file_extension": ".py",
      "codemirror_mode": {
        "version": 3,
        "name": "ipython"
      },
      "name": "python",
      "pygments_lexer": "ipython3"
    }
  },
  "nbformat": 4,
  "nbformat_minor": 0,
  "cells": [
    {
      "cell_type": "code",
      "execution_count": null,
      "outputs": [],
      "source": [
        "%matplotlib inline"
      ],
      "metadata": {
        "collapsed": false
      }
    },
    {
      "cell_type": "markdown",
      "metadata": {},
      "source": [
        "\n# GLM for Poisson distribution\n\nThis is an example demonstrating how Pyglmnet works.\n\n"
      ]
    },
    {
      "cell_type": "code",
      "execution_count": null,
      "outputs": [],
      "source": [
        "# Author: Pavan Ramkumar\n# License: MIT\n\nimport numpy as np\nfrom sklearn.preprocessing import StandardScaler\nimport scipy.sparse as sps\nfrom scipy.special import expit\nimport matplotlib.pyplot as plt"
      ],
      "metadata": {
        "collapsed": false
      }
    },
    {
      "cell_type": "markdown",
      "metadata": {},
      "source": [
        "Here are inputs that you can provide when you instantiate the `GLM` class.\nIf not provided, it will be set to the respective defaults\n\n- `distr`: str, `'poisson'` or `'normal'` or `'binomial'` or `'multinomial'`\n    default: `'poisson'`\n- `alpha`: float, the weighting between L1 and L2 norm, default: 0.5\n- `reg_lambda`: array, array of regularized parameters,\n    default: `np.logspace(np.log(0.5), np.log(0.01), 10, base=np.exp(1))`\n- `learning_rate`: float, learning rate for gradient descent,\n    default: 1e-4\n- `max_iter`: int, maximum iteration for the model, default: 100\n"
      ]
    },
    {
      "cell_type": "code",
      "execution_count": null,
      "outputs": [],
      "source": [
        "# import GLM model\nfrom pyglmnet import GLM\n\n# create regularize parameters for model\nreg_lambda = np.logspace(np.log(0.5), np.log(0.01), 10, base=np.exp(1))\nmodel = GLM(distr='poisson', verbose=False, alpha=0.05,\n            max_iter=1000, learning_rate=1e-4,\n            reg_lambda=reg_lambda)"
      ],
      "metadata": {
        "collapsed": false
      }
    },
    {
      "cell_type": "markdown",
      "metadata": {},
      "source": [
        "Simulate a dataset\n------------------\nThe ``GLM`` class has a very useful method called ``simulate()``.\n\nSince a canonical link function is already specified by the distribution\nparameters, or provided by the user, ``simulate()`` requires\nonly the independent variables ``X`` and the coefficients ``beta0``\nand ``beta``\n"
      ]
    }
  ]
}
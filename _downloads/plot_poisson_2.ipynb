{
  "nbformat_minor": 0,
  "nbformat": 4,
  "cells": [
    {
      "execution_count": null,
      "outputs": [],
      "cell_type": "code",
      "metadata": {
        "collapsed": false
      },
      "source": [
        "%matplotlib inline"
      ]
    },
    {
      "cell_type": "markdown",
      "metadata": {},
      "source": [
        "\n# pyglmnet for Poisson exponential distribution\n\n\nThis is an example demonstrating how pyglmnet with\npoisson exponential distribution works.\n\n"
      ]
    },
    {
      "cell_type": "markdown",
      "metadata": {},
      "source": [
        "first, we can import useful libraries that we will use it later on\n"
      ]
    },
    {
      "execution_count": null,
      "outputs": [],
      "cell_type": "code",
      "metadata": {
        "collapsed": false
      },
      "source": [
        "import numpy as np\nimport scipy.sparse as sps\nfrom scipy.special import expit\nimport matplotlib.pyplot as plt\nfrom sklearn.preprocessing import StandardScaler"
      ]
    },
    {
      "cell_type": "markdown",
      "metadata": {},
      "source": [
        "import ``GLM`` class from ``pyglmnet``\n"
      ]
    },
    {
      "execution_count": null,
      "outputs": [],
      "cell_type": "code",
      "metadata": {
        "collapsed": false
      },
      "source": [
        "# import GLM model\nfrom pyglmnet import GLM\n\n# create regularization parameters for model\nreg_lambda = np.logspace(np.log(0.5), np.log(0.01), 10, base=np.exp(1))\nmodel = GLM(distr='poissonexp', verbose=False, alpha=0.05,\n            max_iter=1000, learning_rate=1e-5,\n            reg_lambda=reg_lambda, eta=4.0)"
      ]
    },
    {
      "cell_type": "markdown",
      "metadata": {},
      "source": [
        "\n$$J = \\sum_i \\lambda_i - y_i \\log \\lambda_i$$\n\nwhere\n\n$$\\lambda_i =\n    \\begin{cases}\n        \\exp(z_i), & \\text{if}\\ z_i \\leq \\eta \\\\\n        \\\\\n         \\exp(\\eta)z_i + (1-\\eta)\\exp(\\eta), & \\text{if}\\ z_i \\gt \\eta\n    \\end{cases}$$\n\nand\n\n$$z_i = \\beta_0 + \\sum_j \\beta_j x_{ij}$$\n\nTaking gradients,\n\n$$\\frac{\\partial J}{\\partial \\beta_j} = \\sum_i \\frac{\\partial J}{\\partial \\lambda_i} \\frac{\\partial \\lambda_i}{\\partial z_i} \\frac{\\partial z_i}{\\partial \\beta_j}$$\n\n\n$$\\frac{\\partial J}{\\partial \\beta_0} =\n    \\begin{cases}\n        \\sum_i \\Big(\\lambda_i - y_i\\Big), & \\text{if}\\ z_i \\leq \\eta \\\\\n        \\\\\n        \\exp(\\eta) \\sum_i \\Big(1 - \\frac{\\lambda_i}{y_i}\\Big), & \\text{if}\\ z_i \\gt \\eta\n    \\end{cases}$$\n\n$$\\frac{\\partial J}{\\partial \\beta_j} =\n    \\begin{cases}\n        \\sum_i \\Big(\\lambda_i - y_i\\Big)x_{ij}, & \\text{if}\\ z_i \\leq \\eta \\\\\n        \\\\\n        \\exp(\\eta) \\sum_i \\Big(1 - \\frac{\\lambda_i}{y_i}\\Big)x_{ij}, & \\text{if}\\ z_i \\gt \\eta\n    \\end{cases}$$\n"
      ]
    },
    {
      "execution_count": null,
      "outputs": [],
      "cell_type": "code",
      "metadata": {
        "collapsed": false
      },
      "source": [
        "z = np.linspace(0., 10., 100)\nqu = model.qu(z)\nplt.plot(z, qu)\nplt.hold\nplt.plot(z, np.exp(z))\nplt.ylim([0, 1000])\nplt.show()"
      ]
    },
    {
      "execution_count": null,
      "outputs": [],
      "cell_type": "code",
      "metadata": {
        "collapsed": false
      },
      "source": [
        "# Dataset size\nn_samples, n_features = 10000, 100\n\n# baseline term\nbeta0 = np.random.normal(0.0, 1.0, 1)\n# sparse model terms\nbeta = sps.rand(n_features, 1, 0.1)\nbeta = np.array(beta.todense())\n\n# training data\nXr = np.random.normal(0.0, 1.0, [n_samples, n_features])\nyr = model.simulate(beta0, beta, Xr)\n\n# testing data\nXt = np.random.normal(0.0, 1.0, [n_samples, n_features])\nyt = model.simulate(beta0, beta, Xt)"
      ]
    },
    {
      "cell_type": "markdown",
      "metadata": {},
      "source": [
        "fit model to training data\n"
      ]
    },
    {
      "execution_count": null,
      "outputs": [],
      "cell_type": "code",
      "metadata": {
        "collapsed": false
      },
      "source": [
        "scaler = StandardScaler().fit(Xr)\nmodel.fit(scaler.transform(Xr),yr);"
      ]
    },
    {
      "cell_type": "markdown",
      "metadata": {},
      "source": [
        "gradient of loss fucntion\n"
      ]
    },
    {
      "execution_count": null,
      "outputs": [],
      "cell_type": "code",
      "metadata": {
        "collapsed": false
      },
      "source": [
        "grad_beta0, grad_beta = model.grad_L2loss(model.fit_[-1]['beta0'], model.fit_[-1]['beta'], 0.01, Xr, yr)\nprint(grad_beta[:5])"
      ]
    },
    {
      "cell_type": "markdown",
      "metadata": {},
      "source": [
        "use one model to predict\n"
      ]
    },
    {
      "execution_count": null,
      "outputs": [],
      "cell_type": "code",
      "metadata": {
        "collapsed": false
      },
      "source": [
        "m = model[-1]\nthis_model_param = m.fit_\nyrhat = m.predict(scaler.transform(Xr))\nythat = m.predict(scaler.transform(Xt))"
      ]
    },
    {
      "cell_type": "markdown",
      "metadata": {},
      "source": [
        "visualize predicted output\n"
      ]
    },
    {
      "execution_count": null,
      "outputs": [],
      "cell_type": "code",
      "metadata": {
        "collapsed": false
      },
      "source": [
        "plt.plot(yt[:100])\nplt.hold(True)\nplt.plot(ythat[:100], 'r')\nplt.show()"
      ]
    },
    {
      "cell_type": "markdown",
      "metadata": {},
      "source": [
        "compute pseudo R-square\n"
      ]
    },
    {
      "execution_count": null,
      "outputs": [],
      "cell_type": "code",
      "metadata": {
        "collapsed": false
      },
      "source": [
        "print(m.pseudo_R2(yt, ythat, np.mean(yr)))"
      ]
    }
  ],
  "metadata": {
    "kernelspec": {
      "language": "python",
      "display_name": "Python 3",
      "name": "python3"
    },
    "language_info": {
      "version": "3.5.1",
      "pygments_lexer": "ipython3",
      "mimetype": "text/x-python",
      "codemirror_mode": {
        "version": 3,
        "name": "ipython"
      },
      "name": "python",
      "file_extension": ".py",
      "nbconvert_exporter": "python"
    }
  }
}
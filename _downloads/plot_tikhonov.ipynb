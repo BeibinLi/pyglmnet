{
  "nbformat_minor": 0, 
  "nbformat": 4, 
  "cells": [
    {
      "execution_count": null, 
      "cell_type": "code", 
      "source": [
        "%matplotlib inline"
      ], 
      "outputs": [], 
      "metadata": {
        "collapsed": false
      }
    }, 
    {
      "source": [
        "\n# Tikhonov Regularization\n\n\nTikhonov regularization is a generalized form of L2-regularization. It allows\nus to articulate our prior knowlege about correlations between different predictors\nwith a multivariate Gaussian prior. Here, we demonstrate how pyglmnet's Tikhonov\nregularizer can be used to estimate spatiotemporal receptive fields (RFs) from\nneural data.\n\nNeurons in many brain areas, including the frontal eye fields (FEF) have RFs,\ndefined as regions in the visual field where visual stimuli are most likely\nto result in spiking activity.\n\nThese spatial RFs need not be static, they can vary in time in a systematic way.\nWe want to characterize how such spatiotemporal RFs (STRFs) remap from one\nfixation to the next. Remapping is a phenomenon where the RF of a neuron shifts\nto process visual information from the subsequent fixation, prior to the onset\nof the saccade. The dynamics of this shift from the \"current\" to the \"future\"\nRF is an active area of research.\n\nWith Tikhonov regularization, we can specify a prior covariance matrix to articulate\nour belief that parameters encoding neighboring points in space and time are\ncorrelated.\n\nThe unpublished data are courtesy of Daniel Wood and Mark Segraves,\nDepartment of Neurobiology, Northwestern University.\n"
      ], 
      "cell_type": "markdown", 
      "metadata": {}
    }, 
    {
      "execution_count": null, 
      "cell_type": "code", 
      "source": [
        "# Author: Pavan Ramkumar <pavan.ramkumar@gmail.com>\n# License: MIT"
      ], 
      "outputs": [], 
      "metadata": {
        "collapsed": false
      }
    }, 
    {
      "source": [
        "Imports\n"
      ], 
      "cell_type": "markdown", 
      "metadata": {}
    }, 
    {
      "execution_count": null, 
      "cell_type": "code", 
      "source": [
        "import os.path as op\nimport numpy as np\nimport pandas as pd\n\nfrom pyglmnet import GLMCV\nfrom spykes.strf import STRF\n\nimport matplotlib.pyplot as plt"
      ], 
      "outputs": [], 
      "metadata": {
        "collapsed": false
      }
    }, 
    {
      "source": [
        "Download and fetch data files\n"
      ], 
      "cell_type": "markdown", 
      "metadata": {}
    }, 
    {
      "execution_count": null, 
      "cell_type": "code", 
      "source": [
        "from pyglmnet.datasets import fetch_tikhonov_data\ndpath = fetch_tikhonov_data(dpath='/tmp/glm-tools')\n\nfixations_df = pd.read_csv(op.join(dpath, 'fixations.csv'))\nprobes_df = pd.read_csv(op.join(dpath, 'probes.csv'))\nprobes_df = pd.read_csv(op.join(dpath, 'probes.csv'))\nspikes_df = pd.read_csv(op.join(dpath, 'spiketimes.csv'))\n\nspiketimes = np.squeeze(spikes_df.values)"
      ], 
      "outputs": [], 
      "metadata": {
        "collapsed": false
      }
    }, 
    {
      "source": [
        "Design spatial basis functions\n"
      ], 
      "cell_type": "markdown", 
      "metadata": {}
    }, 
    {
      "execution_count": null, 
      "cell_type": "code", 
      "source": [
        "n_spatial_basis = 36\nn_temporal_basis = 7\nstrf_model = STRF(patch_size=50, sigma=5,\n                  n_spatial_basis=n_spatial_basis,\n                  n_temporal_basis=n_temporal_basis)\nspatial_basis = strf_model.make_gaussian_basis()\nstrf_model.visualize_gaussian_basis(spatial_basis)"
      ], 
      "outputs": [], 
      "metadata": {
        "collapsed": false
      }
    }, 
    {
      "source": [
        "Design temporal basis functions\n"
      ], 
      "cell_type": "markdown", 
      "metadata": {}
    }, 
    {
      "execution_count": null, 
      "cell_type": "code", 
      "source": [
        "time_points = np.linspace(-100., 100., 10.)\ncenters = [-75., -50., -25., 0, 25., 50., 75.]\ntemporal_basis = strf_model.make_raised_cosine_temporal_basis(time_points=time_points,\n                                                              centers=centers,\n                                                              widths=10.*np.ones(7))\nplt.plot(time_points, temporal_basis)\nplt.show()"
      ], 
      "outputs": [], 
      "metadata": {
        "collapsed": false
      }
    }, 
    {
      "source": [
        "Design parameters\n"
      ], 
      "cell_type": "markdown", 
      "metadata": {}
    }, 
    {
      "execution_count": null, 
      "cell_type": "code", 
      "source": [
        "# Spatial extent\nn_shape = 50\nn_features = n_spatial_basis\n\n# Window of interest\nwindow = [-100, 100]\n\n# Bin size\nbinsize = 20\n\n# Zero pad bins\nn_zero_bins = int(np.floor((window[1] - window[0]) / binsize / 2))"
      ], 
      "outputs": [], 
      "metadata": {
        "collapsed": false
      }
    }, 
    {
      "source": [
        "Build design matrix\n"
      ], 
      "cell_type": "markdown", 
      "metadata": {}
    }, 
    {
      "execution_count": null, 
      "cell_type": "code", 
      "source": [
        "bin_template = np.arange(window[0], window[1] + binsize, binsize)\nn_bins = len(bin_template) - 1\n\nprobetimes = probes_df['t_probe'].values\nspatial_features = np.zeros((0, n_features))\nspike_counts = np.zeros((0,))\nfixation_id = np.zeros((0,))\n\n# For each fixation\nfor fx in fixations_df.index[:1000]:\n\n    # Fixation time\n    fixation_time = fixations_df.loc[fx]['t_fix_f']\n\n    this_fixation_spatial_features = np.zeros((n_bins, n_spatial_basis))\n    this_fixation_spikecounts = np.zeros(n_bins)\n    unique_fixation_id = fixations_df.loc[fx]['trialNum_f'] + 0.01 * fixations_df.loc[fx]['fixNum_f']\n    this_fixation_id = unique_fixation_id * np.ones(n_bins)\n\n    # Look for probes in window of interest relative to fixation\n    probe_ids = np.searchsorted(probetimes,\n                                [fixation_time + window[0] + 0.1,\n                                 fixation_time + window[1] - 0.1])\n\n    # For each such probe\n    for probe_id in range(probe_ids[0], probe_ids[1]):\n\n        # Check if probe lies within spatial region of interest\n        fix_row = fixations_df.loc[fx]['y_curFix_f']\n        fix_col = fixations_df.loc[fx]['x_curFix_f']\n        probe_row = probes_df.loc[probe_id]['y_probe']\n        probe_col = probes_df.loc[probe_id]['x_probe']\n\n        if ((probe_row - fix_row) > -n_shape / 2 and\n            (probe_row - fix_row) < n_shape / 2 and\n            (probe_col - fix_col) > -n_shape / 2 and\n            (probe_col - fix_col) < n_shape / 2):\n\n            # Get probe timestamp relative to fixation\n            probe_time = probes_df.loc[probe_id]['t_probe']\n            probe_bin = np.where(bin_template < (probe_time - fixation_time))[0][-1]\n\n            # Define an image based on the relative locations\n            img = np.zeros(shape=(n_shape, n_shape))\n            row = int(-np.round(probe_row - fix_row) + n_shape / 2 - 1)\n            col = int(np.round(probe_col - fix_col) + n_shape / 2 - 1)\n            img[row, col] = 1\n\n            # Compute projection\n            basis_projection = strf_model.project_to_spatial_basis(img, spatial_basis)\n            this_fixation_spatial_features[probe_bin, :] = basis_projection\n\n    # Count spikes in window of interest relative to fixation\n    bins = fixation_time + bin_template\n    searchsorted_idx = np.searchsorted(spiketimes,\n                                       [fixation_time + window[0],\n                                        fixation_time + window[1]])\n    this_fixation_spike_counts = np.histogram(spiketimes[searchsorted_idx[0]:\n                                                         searchsorted_idx[1]], bins)[0]\n\n    # Accumulate\n    fixation_id = np.concatenate((fixation_id, this_fixation_id), axis=0)\n    spatial_features = np.concatenate((spatial_features, this_fixation_spatial_features), axis=0)\n    spike_counts = np.concatenate((spike_counts, this_fixation_spike_counts), axis=0)\n\n    # Zero pad\n    spatial_features = np.concatenate((spatial_features, np.zeros((n_zero_bins, n_spatial_basis))), axis=0)\n    fixation_id = np.concatenate((fixation_id, -999. * np.ones(n_zero_bins)), axis=0)\n\n# Convolve with temporal basis\nfeatures = strf_model.convolve_with_temporal_basis(spatial_features, temporal_basis)\n\n# Remove zeropad\nfeatures = features[fixation_id != -999.]"
      ], 
      "outputs": [], 
      "metadata": {
        "collapsed": false
      }
    }, 
    {
      "source": [
        "Visualize the distribution of spike counts\n"
      ], 
      "cell_type": "markdown", 
      "metadata": {}
    }, 
    {
      "execution_count": null, 
      "cell_type": "code", 
      "source": [
        "plt.hist(spike_counts, 10)\nplt.show()"
      ], 
      "outputs": [], 
      "metadata": {
        "collapsed": false
      }
    }, 
    {
      "source": [
        "Plot a few rows of the design matrix\n"
      ], 
      "cell_type": "markdown", 
      "metadata": {}
    }, 
    {
      "execution_count": null, 
      "cell_type": "code", 
      "source": [
        "plt.imshow(features[30:150,:], interpolation='none')\nplt.show()"
      ], 
      "outputs": [], 
      "metadata": {
        "collapsed": false
      }
    }, 
    {
      "source": [
        "Design prior covariance matrix for Tikhonov regularization\n"
      ], 
      "cell_type": "markdown", 
      "metadata": {}
    }, 
    {
      "execution_count": null, 
      "cell_type": "code", 
      "source": [
        "prior_cov = strf_model.design_prior_covariance(sigma_temporal=3., sigma_spatial=5.)\n\nplt.imshow(prior_cov, cmap='Greys', interpolation='none')\nplt.colorbar()\nplt.show()\n\nnp.shape(prior_cov)"
      ], 
      "outputs": [], 
      "metadata": {
        "collapsed": false
      }
    }, 
    {
      "source": [
        "Fit models\n"
      ], 
      "cell_type": "markdown", 
      "metadata": {}
    }, 
    {
      "execution_count": null, 
      "cell_type": "code", 
      "source": [
        "from sklearn.cross_validation import train_test_split\nXtrain, Xtest, Ytrain, Ytest = train_test_split(features, spike_counts, test_size=0.2, random_state=42)"
      ], 
      "outputs": [], 
      "metadata": {
        "collapsed": false
      }
    }, 
    {
      "execution_count": null, 
      "cell_type": "code", 
      "source": [
        "from pyglmnet import utils\nn_samples = Xtrain.shape[0]\nTau = utils.tikhonov_from_prior(prior_cov, n_samples)\n\nglm = GLMCV(distr='poisson', alpha=0., Tau=Tau, score_metric='pseudo_R2')\nglm.fit(Xtrain, Ytrain)\nprint(\"train score: %f\" % glm.score(Xtrain, Ytrain))\nprint(\"test score: %f\" % glm.score(Xtest, Ytest))\nweights = glm.beta_"
      ], 
      "outputs": [], 
      "metadata": {
        "collapsed": false
      }
    }, 
    {
      "source": [
        "Visualize\n"
      ], 
      "cell_type": "markdown", 
      "metadata": {}
    }, 
    {
      "execution_count": null, 
      "cell_type": "code", 
      "source": [
        "for time_bin_ in range(n_temporal_basis):\n    RF = strf_model.make_image_from_spatial_basis(spatial_basis,\n                                             weights[range(time_bin_,\n                                                           n_spatial_basis * n_temporal_basis,\n                                                           n_temporal_basis)])\n\n    plt.subplot(1, n_temporal_basis, time_bin_+1)\n    plt.imshow(RF, cmap='Blues', interpolation='none')\n    titletext = str(centers[time_bin_])\n    plt.title(titletext)\n    plt.axis('off')\nplt.show()"
      ], 
      "outputs": [], 
      "metadata": {
        "collapsed": false
      }
    }
  ], 
  "metadata": {
    "kernelspec": {
      "display_name": "Python 2", 
      "name": "python2", 
      "language": "python"
    }, 
    "language_info": {
      "mimetype": "text/x-python", 
      "nbconvert_exporter": "python", 
      "name": "python", 
      "file_extension": ".py", 
      "version": "2.7.13", 
      "pygments_lexer": "ipython2", 
      "codemirror_mode": {
        "version": 2, 
        "name": "ipython"
      }
    }
  }
}
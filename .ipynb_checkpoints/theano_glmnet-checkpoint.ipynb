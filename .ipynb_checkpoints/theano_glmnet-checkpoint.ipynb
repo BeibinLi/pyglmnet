{
 "cells": [
  {
   "cell_type": "markdown",
   "metadata": {},
   "source": [
    "# Theano implementation of Poisson glmnet using cyclical coordinate descent\n",
    "\n",
    "Jerome Friedman, Trevor Hastie and Rob Tibshirani. (2008).\n",
    "Regularization Paths for Generalized Linear Models via Coordinate Descent.\n",
    "Journal of Statistical Software, Vol. 33(1), 1-22"
   ]
  },
  {
   "cell_type": "code",
   "execution_count": 12,
   "metadata": {
    "collapsed": true
   },
   "outputs": [],
   "source": [
    "import numpy as np\n",
    "from scipy.special import expit"
   ]
  },
  {
   "cell_type": "markdown",
   "metadata": {},
   "source": [
    "## Linear nonlinear Poisson-like GLM with elastic net penalty"
   ]
  },
  {
   "cell_type": "markdown",
   "metadata": {},
   "source": [
    "### Poisson GLM\n",
    "For the Poisson generalized linear model (GLM), the conditional intensity function $\\lambda_i$ is the rate parameter of an inhomogeneous linear-nonlinear Poisson (LNP) process with instantaneous mean given by:\n",
    "\n",
    "$$\\lambda_i = \\exp(\\beta_0 + \\beta^T x_i)$$\n",
    "\n",
    "where $x_i \\in \\mathcal{R}^{p \\times 1}, i = \\{1, 2, \\dots, n\\}$ are the observed independent variables (predictors), $\\beta_0 \\in \\mathcal{R}^{1 \\times 1}$, $\\beta \\in \\mathcal{R}^{p \\times 1}$ are linear coefficients. $\\lambda$ is also known as the conditional intensity function, conditioned on $(\\beta_0, \\beta)$ and $g(z) = \\exp(z)$ is the nonlinearity.\n",
    "\n",
    "For numerical reasons, let's adopt a stabilizing non-linearity [adopted by Liam Paninski's group] $g(z) = \\log(1+\\exp(z))$ that prevents the $\\lambda_i$ terms from exploding when the argument to the exponent is large. In this modification, the formulation is no longer an exact LNP, nor an exact GLM, but $\\pm\\mathcal{L}(\\beta_0, \\beta)$ is still concave (convex) and we can use gradient ascent (descent) to optimize it.\n",
    "\n",
    "$$\\lambda_i = g(\\beta_0 + \\beta^T x_i) = \\log(1 + \\exp(\\beta_0 + \\beta^T x_i))$$\n",
    "\n",
    "[Refer to Sara Solla's GLM lectures concerning moment generating functions and strict definitions of GLMs]"
   ]
  },
  {
   "cell_type": "code",
   "execution_count": 22,
   "metadata": {
    "collapsed": true
   },
   "outputs": [],
   "source": [
    "# Let's define the conditional intensity function\n",
    "def g(z):\n",
    "    return np.log(1+np.exp(z))\n",
    "\n",
    "def lmb(beta0, beta, x):\n",
    "    z = beta0 + np.dot(np.transpose(beta), x)\n",
    "    return g(z)   "
   ]
  },
  {
   "cell_type": "markdown",
   "metadata": {},
   "source": [
    "### Log-likelihood\n",
    "The likelihood of observing the spike count $y_i$ under the Poisson likelihood function with inhomogeneous rate $\\lambda_i$ is given by:\n",
    "\n",
    "\\begin{equation}\n",
    "\\prod_i P(y = y_i) = \\prod_i \\frac{e^{\\lambda_i} \\lambda_i^{y_i}}{y_i!}\n",
    "\\end{equation}\n",
    "\n",
    "The log-likelihood is given by:\n",
    "\n",
    "$$\\mathcal{L} = \\sum_i \\lambda_i - y_i \\log(\\lambda_i) - log(y_i!)$$\n",
    "\n",
    "However, we are interested in maximizing the log-likelihood as a function of $\\beta_0$ and $\\beta$. Thus, we can drop the factorial term:\n",
    "\n",
    "$$\\mathcal{L}(\\beta_0, \\beta) = \\sum_i \\lambda_i - y_i \\log(\\lambda_i)$$"
   ]
  },
  {
   "cell_type": "code",
   "execution_count": 10,
   "metadata": {
    "collapsed": true
   },
   "outputs": [],
   "source": [
    "# Let's define the log likelihood\n",
    "def logL(beta0, beta, x, y):\n",
    "    lmb = lmb(beta0, beta, x)\n",
    "    logL = lmb - np.dot(y, np.log(lmb))"
   ]
  },
  {
   "cell_type": "markdown",
   "metadata": {},
   "source": [
    "### Elastic net penalty\n",
    "For large models we need to penalize the log likelihood term in order to prevent overfitting. \n",
    "The elastic net penalty is given by:\n",
    "\n",
    "$$\\mathcal{P}_\\alpha(\\beta) = (1-\\alpha)\\frac{1}{2} \\|\\beta\\|^2_{l_2} + \\alpha\\|\\beta\\|_{l_1}$$\n",
    "\n",
    "The elastic net interpolates between two extremes. $\\alpha = 0$ is known as ridge regression and $\\alpha = 1$ is known as Lasso. Note that we do not penalize the baseline term $\\beta_0$."
   ]
  },
  {
   "cell_type": "code",
   "execution_count": 11,
   "metadata": {
    "collapsed": true
   },
   "outputs": [],
   "source": [
    "# Let's define the penalty term\n",
    "def penalty(alpha, beta):\n",
    "    0.5*(1-alpha)*np.linalg.norm(beta,2) + alpha*np.linalg.norm(beta,1)"
   ]
  },
  {
   "cell_type": "markdown",
   "metadata": {},
   "source": [
    "### Objective function\n",
    "We minimize the objective function:\n",
    "\n",
    "$$J(\\beta_0, \\beta) = -\\mathcal{L}(\\beta_0, \\beta) + \\lambda \\mathcal{P}_\\alpha(\\beta)$$\n",
    "\n",
    "where $\\mathcal{L}(\\beta_0, \\beta)$ is the Poisson log-likelihood and $\\mathcal{P}_\\alpha(\\beta)$ is the elastic net penalty term and $\\lambda$ and $\\alpha$ are regularization parameters.\n"
   ]
  },
  {
   "cell_type": "code",
   "execution_count": 16,
   "metadata": {
    "collapsed": true
   },
   "outputs": [],
   "source": [
    "# Let's define the objective function with elastic net regularization\n",
    "def loss(beta0, beta, alpha, reg_lambda, x, y):\n",
    "    L = logL(beta0, beta, x, y)\n",
    "    P = penalty(alpha, beta)\n",
    "    J = -L + reg_lambda*P\n",
    "    return J"
   ]
  },
  {
   "cell_type": "markdown",
   "metadata": {},
   "source": [
    "## Optimization using cyclical co-ordinate descent"
   ]
  },
  {
   "cell_type": "markdown",
   "metadata": {},
   "source": [
    "### Gradients\n",
    "To calculate the gradients of the cost function with respect to $\\beta_0$ and $\\beta$, let's plug in the definitions for the log likelihood and penalty terms from above.\n",
    "\n",
    "$$\n",
    "J(\\beta_0, \\beta) = \\sum_i \\log(1 + \\exp(\\beta_0 + \\beta^T x_i)) - y_i \\log(\\log(1 + \\exp(\\beta_0 + \\beta^T x_i))) + \\lambda(1-\\alpha)\\frac{1}{2} \\|\\beta\\|^2_{l_2} + \\lambda\\alpha\\|\\beta\\|_{l_1}\n",
    "$$\n",
    "\n",
    "Since we will apply co-ordinate descent, let's rewrite this cost in terms of each scalar parameter $\\beta_j$\n",
    "\n",
    "$$\n",
    "J(\\beta_0, \\beta) = \\sum_i \\log(1 + \\exp(\\beta_0 + \\sum_j \\beta_j x_{ij})) - y_i \\log(\\log(1 + \\exp(\\beta_0 + \\sum_j \\beta_j x_{ij}))) + \\lambda(1-\\alpha)\\frac{1}{2} \\sum_j \\beta_j^2 + \\lambda\\alpha\\sum_j \\mid\\beta_j\\mid\n",
    "$$\n",
    "\n",
    "Let's take the derivatives of some big expressions using chain rule. Define $z_i = \\beta_0 + \\sum_j \\beta_j x_{ij}$.\n",
    "\n",
    "For the nonlinearity in the first term $y = g(z) = \\log(1+e^{z(\\theta)})$,\n",
    "\n",
    "$$\\frac{\\partial y}{\\partial \\theta} = \\frac{\\partial g}{\\partial z}\\frac{\\partial z}{\\partial \\theta} = \\frac{e^z}{1+e^z}\\frac{\\partial z}{\\partial \\theta} = \\sigma(z)\\frac{\\partial z}{\\partial \\theta}$$\n",
    "\n",
    "For the nonlinearity in the second term $y = \\log(g(z)) = \\log(\\log(1+e^{z(\\theta)}))$,\n",
    "\n",
    "$$\\frac{\\partial y}{\\partial \\theta} = \\frac{1}{g(z)}\\frac{\\partial g}{\\partial z}\\frac{\\partial z}{\\partial \\theta} = \\frac{\\sigma(z)}{g(z)}\\frac{\\partial z}{\\partial \\theta}$$\n",
    "\n",
    "where $\\dot g(z)$ happens to be be the sigmoid function,\n",
    "$$\\sigma(z) = \\frac{e^z}{1+e^z}$$\n",
    "\n",
    "Putting it all together, we have,\n",
    "\n",
    "$$\n",
    "\\frac{\\partial J}{\\partial \\beta_0} = \\sum_i \\sigma(z_i) - \\sum_i y_i\\frac{\\sigma(z_i)}{g(z_i)}\n",
    "$$\n",
    "\n",
    "$$\n",
    "\\frac{\\partial J}{\\partial \\beta_j} = \\sum_i \\sigma(z_i) x_{ij} - \\sum_i y_i \\frac{\\sigma(z_i)}{g(z_i)}x_{ij}\n",
    "+ \\lambda(1-\\alpha)\\beta_j + \\lambda\\alpha \\text{sgn}(\\beta_j)\n",
    "$$\n"
   ]
  },
  {
   "cell_type": "code",
   "execution_count": 26,
   "metadata": {
    "collapsed": true
   },
   "outputs": [],
   "source": [
    "# Let's define these gradients\n",
    "def grad_loss(beta0, beta, alpha, reg_lambda, x, y):\n",
    "    z = beta0 + np.dot(np.transpose(beta), x)\n",
    "    g = g(z)\n",
    "    s = expit(z)\n",
    "    grad_beta0 = s - np.multiply(y, np.divide(s, g))\n",
    "    # This is a matrix implementation\n",
    "    grad_beta = np.dot(np.transpose(s), x) - np.dot(np.multiply(y, np.divide(s, g)), x) \\\n",
    "        + reg_lambda*(1-alpha)*beta + reg_lambda*alpha*np.sign(beta)\n",
    "    return grad_beta0, grad_beta"
   ]
  },
  {
   "cell_type": "markdown",
   "metadata": {},
   "source": [
    "### Hessian terms\n",
    "Second-order derivatives can accelerate convergence to local minima by providing optimal step sizes. However, they are expensive to compute. \n",
    "\n",
    "This is where co-ordinate descent shines. Since we update only one parameter $\\beta_j$ per step, we can simply use the $j^{th}$ diagonal term in the Hessian matrix to perform an approximate Newton update as:\n",
    "\n",
    "$$\\beta_j^{t+1} = \\beta_j^{t} - \\bigg\\{\\frac{\\partial^2 J}{\\partial \\beta_j^2}\\bigg\\}^{-1} \\frac{\\partial J}{\\partial \\beta_j}$$\n",
    "\n",
    "Let's use calculus again to compute these diagonal terms. Recall that:\n",
    "\n",
    "$$\\dot g(z) = \\sigma(z)$$ and \n",
    "$$\\dot\\sigma(z) = \\sigma(z)(1-\\sigma(z))$$\n",
    "\n",
    "Using these, and applying the product rule\n",
    "$$\n",
    "\\frac{\\partial}{\\partial z}\\bigg\\{ \\frac{\\sigma(z)}{g(z)} \\bigg\\} = \\frac{\\sigma(z)(1-\\sigma(z))}{g(z)} - \\frac{\\sigma(z)}{g(z)^2}\n",
    "$$\n",
    "\n",
    "Plugging all these in, we get\n",
    "$$\n",
    "\\frac{\\partial^2 J}{\\partial \\beta_0^2} = \\sum_i \\sigma(z_i)(1 - \\sigma(z_i)) - \\sum_i y_i \\bigg\\{ \\frac{\\sigma(z_i) (1 - \\sigma(z_i))}{g(z_i)} - \\frac{\\sigma(z_i)}{g(z_i)^2} \\bigg\\}\n",
    "$$\n",
    "\n",
    "$$\n",
    "\\frac{\\partial^2 J}{\\partial \\beta_j^2} = \\sum_i \\sigma(z_i)(1 - \\sigma(z_i)) x_{ij}^2 \n",
    "- \\sum_i y_i \\bigg\\{ \\frac{\\sigma(z_i) (1 - \\sigma(z_i))}{g(z_i)} - \\frac{\\sigma(z_i)}{g(z_i)^2} \\bigg\\}x_{ij}^2 + \\lambda(1-\\alpha)\n",
    "$$"
   ]
  },
  {
   "cell_type": "code",
   "execution_count": 27,
   "metadata": {
    "collapsed": true
   },
   "outputs": [],
   "source": [
    "# Let's define these Hessian terms\n",
    "def hessian_loss(beta0, beta, alpha, reg_lambda, x, y):\n",
    "    z = beta0 + np.dot(np.transpose(beta), x)\n",
    "    g = g(z)\n",
    "    s = expit(z)\n",
    "    grad_s = np.multiply(s, 1-s)\n",
    "    grad_s_by_g = np.divide(np.multiply(s, 1-s), g) - np.divide(s, np.multiply(g,g))\n",
    "    \n",
    "    hess_beta0 = grad_s - np.multiply(y, grad_s_by_g)\n",
    "    # This is a matrix implementation\n",
    "    hess_beta = np.dot(np.transpose(grad_s), np.multiply(x,x)) - np.dot(np.multiply(y, grad_s_by_g), np.multiply(x,x)) + reg_lambda*(1-alpha)\n",
    "    return hess_beta0, hess_beta"
   ]
  },
  {
   "cell_type": "markdown",
   "metadata": {},
   "source": [
    "### Co-ordinate descent update\n",
    "\n",
    "In cylical coordinate descent, we update only one parameter at a time. Thus, the gradients and Hessian terms don't have to be recalculated in each step because they only change by a single term. If we update them instead of recalculating them, we can save on a lot of multiplications and additions. Let's figure that out.\n",
    "\n",
    "First, let's say only the $k^{th}$ parameter was updated at time step $t$.\n",
    "\n",
    "$$\\beta_k^{t} = \\beta_k^{t-1} - (h_k^{t-1})^{-1} g_k^{t-1}$$\n",
    "\n",
    "$$\\beta_j^{t} = \\beta_j^{t-1}, \\forall j \\neq k $$\n",
    "\n",
    "Next, we want to update $\\beta_{k+1}$ at the next time step $t+1$. For this we need the gradient and Hessian terms, $g_{k+1}$ and $h_{k+1}$. Let's calculate how to make these updates.\n",
    "\n",
    "$$z_i^{t} = z_i^{t-1} - \\beta_k^{t-1}x_{ik} + \\beta_k^{t}x_{ik}$$\n",
    "\n",
    "$$z_i^{t} = z_i^{t-1} - (h_k^{t-1})^{-1} g_k^{t-1}x_{ik}$$"
   ]
  },
  {
   "cell_type": "markdown",
   "metadata": {},
   "source": [
    "### Gradient update functions\n",
    "\n",
    "If $k = 0$,\n",
    "\n",
    "$$g_{k+1}^t = \\sum_i \\sigma(z_i^t) - \\sum_i y_i \\frac{\\sigma(z_i^t)}{g(z_i^t)}$$\n",
    "\n",
    "If $k > 0$,\n",
    "\n",
    "$$g_{k+1}^t = \\sum_i \\sigma(z_i^t) x_{i,k+1} - \\sum_i y_i \\frac{\\sigma(z_i^t)}{g(z_i^t)}x_{i,k+1} + \\lambda(1-\\alpha)\\beta_{k+1}^t + \\lambda\\alpha \\text{sgn}(\\beta_{k+1}^t)$$ "
   ]
  },
  {
   "cell_type": "markdown",
   "metadata": {},
   "source": [
    "### Hessian update functions\n",
    "\n",
    "If $k = 0$,\n",
    "\n",
    "$$\n",
    "h_{k+1}^t = \\sum_i \\sigma(z_i^t)(1 - \\sigma(z_i^t)) \n",
    "- \\sum_i y_i \\bigg\\{ \\frac{\\sigma(z_i^t) (1 - \\sigma(z_i^t))}{g(z_i^t)} - \\frac{\\sigma(z_i^t)}{g(z_i^t)^2} \\bigg\\}x_{i,k+1}^2\n",
    "$$\n",
    "\n",
    "If $k > 0$,\n",
    "\n",
    "$$\n",
    "h_{k+1}^t = \\sum_i \\sigma(z_i^t)(1 - \\sigma(z_i^t)) x_{i,k+1}^2 \n",
    "- \\sum_i y_i \\bigg\\{ \\frac{\\sigma(z_i^t) (1 - \\sigma(z_i^t))}{g(z_i^t)} - \\frac{\\sigma(z_i^t)}{g(z_i^t)^2} \\bigg\\}x_{i,k+1}^2 + \\lambda(1-\\alpha)\n",
    "$$\n"
   ]
  },
  {
   "cell_type": "code",
   "execution_count": null,
   "metadata": {
    "collapsed": true
   },
   "outputs": [],
   "source": [
    "# Let's implement this\n",
    "\n",
    "x = np.random.normal(1.0, [10000,1000])\n",
    "y = np.random.poisson(1.0, [1000,1])\n",
    "n = x.shape[0]\n",
    "p = x.shape[1]\n",
    "\n",
    "#-------------\n",
    "# Initialize\n",
    "#-------------\n",
    "#parameters\n",
    "reg_lambda = 0.05\n",
    "alpha = 0.05\n",
    "\n",
    "#weights\n",
    "beta0 = np.random.normal(0.0,1.0,1)\n",
    "beta = np.random.normal(0.0,1.0,[p,1])\n",
    "\n",
    "#gradient\n",
    "\n",
    "#Hessian\n",
    "\n",
    "#z\n",
    "\n",
    "#---------------------------\n",
    "# Iterate until convergence\n",
    "#---------------------------\n",
    "no_convergence = 1\n",
    "while(no_convergence):\n",
    "    for k in range(p):\n",
    "        # Update the weights\n",
    "        \n",
    "        # Update z\n",
    "        \n",
    "        # Update the gradient \n",
    "        \n",
    "        # Update the Hessian\n",
    "        \n",
    "    # Calculate cost and convergence criteria\n",
    "    "
   ]
  },
  {
   "cell_type": "markdown",
   "metadata": {},
   "source": [
    "## Regularization paths and warm restarts"
   ]
  },
  {
   "cell_type": "code",
   "execution_count": null,
   "metadata": {
    "collapsed": true
   },
   "outputs": [],
   "source": [
    "# Native python function\n",
    "def glmnet(x, y, params):\n",
    "    \n",
    "    return fit\n"
   ]
  }
 ],
 "metadata": {
  "kernelspec": {
   "display_name": "Python 2",
   "language": "python",
   "name": "python2"
  },
  "language_info": {
   "codemirror_mode": {
    "name": "ipython",
    "version": 2
   },
   "file_extension": ".py",
   "mimetype": "text/x-python",
   "name": "python",
   "nbconvert_exporter": "python",
   "pygments_lexer": "ipython2",
   "version": "2.7.11"
  }
 },
 "nbformat": 4,
 "nbformat_minor": 0
}

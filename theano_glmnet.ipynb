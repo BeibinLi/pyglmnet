{
 "cells": [
  {
   "cell_type": "markdown",
   "metadata": {},
   "source": [
    "# Theano implementation of Poisson glmnet using cyclical coordinate descent\n",
    "\n",
    "Jerome Friedman, Trevor Hastie and Rob Tibshirani. (2008).\n",
    "Regularization Paths for Generalized Linear Models via Coordinate Descent.\n",
    "Journal of Statistical Software, Vol. 33(1), 1-22"
   ]
  },
  {
   "cell_type": "code",
   "execution_count": 19,
   "metadata": {
    "collapsed": false
   },
   "outputs": [],
   "source": [
    "import numpy as np\n",
    "from scipy.special import expit\n",
    "import scipy.sparse as sps\n",
    "import matplotlib.pyplot as plt\n",
    "%matplotlib inline"
   ]
  },
  {
   "cell_type": "markdown",
   "metadata": {},
   "source": [
    "## Linear nonlinear Poisson-like GLM with elastic net penalty"
   ]
  },
  {
   "cell_type": "markdown",
   "metadata": {},
   "source": [
    "### Poisson GLM\n",
    "For the Poisson generalized linear model (GLM), $\\lambda_i$ is the rate parameter of an inhomogeneous linear-nonlinear Poisson (LNP) process with instantaneous mean given by:\n",
    "\n",
    "$$\\lambda_i = \\exp(\\beta_0 + \\beta^T x_i)$$\n",
    "\n",
    "where $x_i \\in \\mathcal{R}^{p \\times 1}, i = \\{1, 2, \\dots, n\\}$ are the observed independent variables (predictors), $\\beta_0 \\in \\mathcal{R}^{1 \\times 1}$, $\\beta \\in \\mathcal{R}^{p \\times 1}$ are linear coefficients. $\\lambda_i$ is also known as the conditional intensity function, conditioned on $(\\beta_0, \\beta)$ and $q(z) = \\exp(z)$ is the nonlinearity.\n",
    "\n",
    "For numerical reasons, let's adopt a stabilizing non-linearity [adopted by Liam Paninski's group] $q(z) = \\log(1+\\exp(z))$ that prevents the $\\lambda_i$ terms from exploding when the argument to the exponent is large. In this modification, the formulation is no longer an exact LNP, nor an exact GLM, but $\\pm\\mathcal{L}(\\beta_0, \\beta)$ is still concave (convex) and we can use gradient ascent (descent) to optimize it.\n",
    "\n",
    "$$\\lambda_i = q(\\beta_0 + \\beta^T x_i) = \\log(1 + \\exp(\\beta_0 + \\beta^T x_i))$$\n",
    "\n",
    "[Refer to Sara Solla's GLM lectures concerning moment generating functions and strict definitions of GLMs]"
   ]
  },
  {
   "cell_type": "code",
   "execution_count": 2,
   "metadata": {
    "collapsed": true
   },
   "outputs": [],
   "source": [
    "# Let's define the conditional intensity function\n",
    "def qu(z):\n",
    "    #eps = np.finfo(float).eps\n",
    "    eps = 0.1\n",
    "    return np.log(1+eps+np.exp(z))\n",
    "\n",
    "def lmb(beta0, beta, x):\n",
    "    #eps = np.finfo(float).eps\n",
    "    eps = 0.1\n",
    "    z = beta0 + np.dot(x, beta)\n",
    "    return np.log(1+eps+np.exp(z))   "
   ]
  },
  {
   "cell_type": "markdown",
   "metadata": {},
   "source": [
    "### Log-likelihood\n",
    "The likelihood of observing the spike count $y_i$ under the Poisson likelihood function with inhomogeneous rate $\\lambda_i$ is given by:\n",
    "\n",
    "\\begin{equation}\n",
    "\\prod_i P(y = y_i) = \\prod_i \\frac{e^{-\\lambda_i} \\lambda_i^{y_i}}{y_i!}\n",
    "\\end{equation}\n",
    "\n",
    "The log-likelihood is given by:\n",
    "\n",
    "$$\\mathcal{L} = \\sum_i \\bigg\\{y_i \\log(\\lambda_i) - \\lambda_i - log(y_i!)\\bigg\\}$$\n",
    "\n",
    "However, we are interested in maximizing the log-likelihood as a function of $\\beta_0$ and $\\beta$. Thus, we can drop the factorial term:\n",
    "\n",
    "$$\\mathcal{L}(\\beta_0, \\beta) = \\sum_i \\bigg\\{y_i \\log(\\lambda_i) - \\lambda_i\\bigg\\}$$"
   ]
  },
  {
   "cell_type": "code",
   "execution_count": 70,
   "metadata": {
    "collapsed": true
   },
   "outputs": [],
   "source": [
    "# Let's define the log likelihood\n",
    "def logL(beta0, beta, x, y):\n",
    "    l = lmb(beta0, beta, x)\n",
    "    logL = np.sum(y*np.log(l) - l)\n",
    "    return logL"
   ]
  },
  {
   "cell_type": "markdown",
   "metadata": {},
   "source": [
    "### Elastic net penalty\n",
    "For large models we need to penalize the log likelihood term in order to prevent overfitting. \n",
    "The elastic net penalty is given by:\n",
    "\n",
    "$$\\mathcal{P}_\\alpha(\\beta) = (1-\\alpha)\\frac{1}{2} \\|\\beta\\|^2_{\\mathcal{l}_2} + \\alpha\\|\\beta\\|_{\\mathcal{l}_1}$$\n",
    "\n",
    "The elastic net interpolates between two extremes. $\\alpha = 0$ is known as ridge regression and $\\alpha = 1$ is known as Lasso. Note that we do not penalize the baseline term $\\beta_0$."
   ]
  },
  {
   "cell_type": "code",
   "execution_count": 4,
   "metadata": {
    "collapsed": true
   },
   "outputs": [],
   "source": [
    "# Let's define the penalty term\n",
    "def penalty(alpha, beta):\n",
    "    P = 0.5*(1-alpha)*np.linalg.norm(beta,2) + alpha*np.linalg.norm(beta,1)\n",
    "    return P"
   ]
  },
  {
   "cell_type": "markdown",
   "metadata": {},
   "source": [
    "### Objective function\n",
    "We minimize the objective function:\n",
    "\n",
    "$$J(\\beta_0, \\beta) = -\\mathcal{L}(\\beta_0, \\beta) + \\lambda \\mathcal{P}_\\alpha(\\beta)$$\n",
    "\n",
    "where $\\mathcal{L}(\\beta_0, \\beta)$ is the Poisson log-likelihood and $\\mathcal{P}_\\alpha(\\beta)$ is the elastic net penalty term and $\\lambda$ and $\\alpha$ are regularization parameters.\n"
   ]
  },
  {
   "cell_type": "code",
   "execution_count": 5,
   "metadata": {
    "collapsed": true
   },
   "outputs": [],
   "source": [
    "# Let's define the objective function with elastic net regularization\n",
    "def loss(beta0, beta, alpha, reg_lambda, x, y):\n",
    "    L = logL(beta0, beta, x, y)\n",
    "    P = penalty(alpha, beta)\n",
    "    J = -L + reg_lambda*P\n",
    "    return J"
   ]
  },
  {
   "cell_type": "markdown",
   "metadata": {},
   "source": [
    "## Optimization"
   ]
  },
  {
   "cell_type": "markdown",
   "metadata": {},
   "source": [
    "### Gradients\n",
    "To calculate the gradients of the cost function with respect to $\\beta_0$ and $\\beta$, let's plug in the definitions for the log likelihood and penalty terms from above.\n",
    "\n",
    "$$\n",
    "J(\\beta_0, \\beta) = \\sum_i \\bigg\\{ \\log(1 + \\exp(\\beta_0 + \\beta^T x_i)) - y_i \\log(\\log(1 + \\exp(\\beta_0 + \\beta^T x_i)))\\bigg\\} + \\lambda(1-\\alpha)\\frac{1}{2} \\|\\beta\\|^2_{\\mathcal{l_2}} + \\lambda\\alpha\\|\\beta\\|_{\\mathcal{l_1}}\n",
    "$$\n",
    "\n",
    "Since we will apply co-ordinate descent, let's rewrite this cost in terms of each scalar parameter $\\beta_j$\n",
    "\n",
    "$$\n",
    "J(\\beta_0, \\beta) = \\sum_i \\bigg\\{ \\log(1 + \\exp(\\beta_0 + \\sum_j \\beta_j x_{ij})) - y_i \\log(\\log(1 + \\exp(\\beta_0 + \\sum_j \\beta_j x_{ij})))\\bigg\\} + \\lambda(1-\\alpha)\\frac{1}{2} \\sum_j \\beta_j^2 + \\lambda\\alpha\\sum_j \\mid\\beta_j\\mid\n",
    "$$\n",
    "\n",
    "Let's take the derivatives of some big expressions using chain rule. Define $z_i = \\beta_0 + \\sum_j \\beta_j x_{ij}$.\n",
    "\n",
    "For the nonlinearity in the first term $y = q(z) = \\log(1+e^{z(\\theta)})$,\n",
    "\n",
    "$$\\frac{\\partial y}{\\partial \\theta} = \\frac{\\partial q}{\\partial z}\\frac{\\partial z}{\\partial \\theta} = \\frac{e^z}{1+e^z}\\frac{\\partial z}{\\partial \\theta} = \\sigma(z)\\frac{\\partial z}{\\partial \\theta}$$\n",
    "\n",
    "For the nonlinearity in the second term $y = \\log(q(z)) = \\log(\\log(1+e^{z(\\theta)}))$,\n",
    "\n",
    "$$\\frac{\\partial y}{\\partial \\theta} = \\frac{1}{q(z)}\\frac{\\partial q}{\\partial z}\\frac{\\partial z}{\\partial \\theta} = \\frac{\\sigma(z)}{q(z)}\\frac{\\partial z}{\\partial \\theta}$$\n",
    "\n",
    "where $\\dot q(z)$ happens to be be the sigmoid function,\n",
    "$$\\sigma(z) = \\frac{e^z}{1+e^z}$$\n",
    "\n",
    "Putting it all together, we have,\n",
    "\n",
    "$$\n",
    "\\frac{\\partial J}{\\partial \\beta_0} = \\sum_i \\sigma(z_i) - \\sum_i y_i\\frac{\\sigma(z_i)}{q(z_i)}\n",
    "$$\n",
    "\n",
    "$$\n",
    "\\frac{\\partial J}{\\partial \\beta_j} = \\sum_i \\sigma(z_i) x_{ij} - \\sum_i y_i \\frac{\\sigma(z_i)}{q(z_i)}x_{ij}\n",
    "+ \\lambda(1-\\alpha)\\beta_j + \\lambda\\alpha \\text{sgn}(\\beta_j)\n",
    "$$\n"
   ]
  },
  {
   "cell_type": "code",
   "execution_count": 6,
   "metadata": {
    "collapsed": true
   },
   "outputs": [],
   "source": [
    "# Let's define these gradients\n",
    "def grad_loss(beta0, beta, alpha, reg_lambda, x, y):\n",
    "    z = beta0 + np.dot(x, beta)\n",
    "    q = qu(z)\n",
    "    s = expit(z)\n",
    "    grad_beta0 = np.sum(s) - np.sum(y*s/q)\n",
    "    # This is a matrix implementation\n",
    "    grad_beta = np.transpose(np.dot(np.transpose(s), x) - np.dot(np.transpose(y*s/q), x)) \\\n",
    "        + reg_lambda*(1-alpha)*beta# + reg_lambda*alpha*np.sign(beta)\n",
    "    return grad_beta0, grad_beta"
   ]
  },
  {
   "cell_type": "markdown",
   "metadata": {},
   "source": [
    "### Hessian terms\n",
    "Second-order derivatives can accelerate convergence to local minima by providing optimal step sizes. However, they are expensive to compute. \n",
    "\n",
    "This is where co-ordinate descent shines. Since we update only one parameter $\\beta_j$ per step, we can simply use the $j^{th}$ diagonal term in the Hessian matrix to perform an approximate Newton update as:\n",
    "\n",
    "$$\\beta_j^{t+1} = \\beta_j^{t} - \\bigg\\{\\frac{\\partial^2 J}{\\partial \\beta_j^2}\\bigg\\}^{-1} \\frac{\\partial J}{\\partial \\beta_j}$$\n",
    "\n",
    "Let's use calculus again to compute these diagonal terms. Recall that:\n",
    "\n",
    "$$\\dot q(z) = \\sigma(z)$$ and \n",
    "$$\\dot\\sigma(z) = \\sigma(z)(1-\\sigma(z))$$\n",
    "\n",
    "Using these, and applying the product rule\n",
    "$$\n",
    "\\frac{\\partial}{\\partial z}\\bigg\\{ \\frac{\\sigma(z)}{q(z)} \\bigg\\} = \\frac{\\sigma(z)(1-\\sigma(z))}{q(z)} - \\frac{\\sigma(z)}{q(z)^2}\n",
    "$$\n",
    "\n",
    "Plugging all these in, we get\n",
    "$$\n",
    "\\frac{\\partial^2 J}{\\partial \\beta_0^2} = \\sum_i \\sigma(z_i)(1 - \\sigma(z_i)) - \\sum_i y_i \\bigg\\{ \\frac{\\sigma(z_i) (1 - \\sigma(z_i))}{q(z_i)} - \\frac{\\sigma(z_i)}{q(z_i)^2} \\bigg\\}\n",
    "$$\n",
    "\n",
    "$$\n",
    "\\frac{\\partial^2 J}{\\partial \\beta_j^2} = \\sum_i \\sigma(z_i)(1 - \\sigma(z_i)) x_{ij}^2 \n",
    "- \\sum_i y_i \\bigg\\{ \\frac{\\sigma(z_i) (1 - \\sigma(z_i))}{q(z_i)} - \\frac{\\sigma(z_i)}{q(z_i)^2} \\bigg\\}x_{ij}^2 + \\lambda(1-\\alpha)\n",
    "$$"
   ]
  },
  {
   "cell_type": "code",
   "execution_count": 7,
   "metadata": {
    "collapsed": true
   },
   "outputs": [],
   "source": [
    "# Let's define these Hessian terms\n",
    "def hessian_loss(beta0, beta, alpha, reg_lambda, x, y):\n",
    "    z = beta0 + np.dot(x, beta)\n",
    "    q = qu(z)\n",
    "    s = expit(z)\n",
    "    grad_s = s*(1-s)\n",
    "    grad_s_by_q = grad_s/q - s/(q*q)\n",
    "    \n",
    "    hess_beta0 = np.sum(grad_s) - np.sum(y*grad_s_by_q)\n",
    "    \n",
    "    # This is a matrix implementation\n",
    "    hess_beta = np.transpose(np.dot(np.transpose(grad_s), x*x) - np.dot(np.transpose(y*grad_s_by_q), x*x))\\\n",
    "                             + reg_lambda*(1-alpha)\n",
    "    return hess_beta0, hess_beta"
   ]
  },
  {
   "cell_type": "markdown",
   "metadata": {},
   "source": [
    "## Cyclical co-ordinate descent"
   ]
  },
  {
   "cell_type": "markdown",
   "metadata": {},
   "source": [
    "### Parameter update step\n",
    "In cylical coordinate descent with elastic net, we store an active set, $\\mathcal{K}$, of parameter indices that we update. Since the $\\mathcal{l}_1$ terms $|\\beta_j|$ are not differentiable at zero, we use the gradient without the $\\lambda\\alpha \\text{sgn}(\\beta_j)$ term to update $\\beta_j$. Let's call these gradient terms $\\tilde{g}_k$.\n",
    "\n",
    "We start by initializing $\\mathcal{K}$ to contain all parameter indices\n",
    "Let's say only the $k^{th}$ parameter is updated at time step $t$.\n",
    "\n",
    "$$\\beta_k^{t} = \\beta_k^{t-1} - (h_k^{t-1})^{-1} \\tilde{g}_k^{t-1}$$\n",
    "$$\\beta_j^{t} = \\beta_j^{t-1}, \\forall j \\neq k $$\n",
    "\n",
    "Next, we apply a soft thresholding step for $k \\neq 0$ after every update iteration, as follows.\n",
    "$$\\beta_k^{t} = \\mathcal{S}_{\\lambda\\alpha}(\\beta_k^{t})$$\n",
    "\n",
    "where \n",
    "$$S_\\lambda(x) = \n",
    "\\begin{cases}\n",
    "0 & \\text{if} & |x| \\leq \\lambda\\\\\n",
    "\\text{sgn}(x)||x|-\\lambda| & \\text{if} & |x| > \\lambda\n",
    "\\end{cases}\n",
    "$$\n",
    "\n",
    "If $\\beta_k^{t}$ has been zero-ed out, we remove $k$ from the active set.\n",
    "$$\n",
    "\\mathcal{K} = \\mathcal{K} \\setminus \\left\\{k\\right\\}\n",
    "$$\n"
   ]
  },
  {
   "cell_type": "code",
   "execution_count": 133,
   "metadata": {
    "collapsed": true
   },
   "outputs": [],
   "source": [
    "# Define the proximal operator\n",
    "def prox(x,l):\n",
    "    sx = [0. if np.abs(y) <= l else np.sign(y)*np.abs(abs(y)-l) for y in x]\n",
    "    return np.array(sx).reshape(x.shape)"
   ]
  },
  {
   "cell_type": "markdown",
   "metadata": {},
   "source": [
    "### Efficient z update\n",
    "\n",
    "Next, we want to update $\\beta_{k+1}$ at the next time step $t+1$. For this we need the gradient and Hessian terms, $\\tilde{g}_{k+1}$ and $h_{k+1}$. If we update them instead of recalculating them, we can save on a lot of multiplications and additions. This is possible because we only update one parameter at a time. Let's calculate how to make these updates.\n",
    "\n",
    "$$z_i^{t} = z_i^{t-1} - \\beta_k^{t-1}x_{ik} + \\beta_k^{t}x_{ik}$$\n",
    "\n",
    "$$z_i^{t} = z_i^{t-1} - (h_k^{t-1})^{-1} \\tilde{g}_k^{t-1}x_{ik}$$"
   ]
  },
  {
   "cell_type": "markdown",
   "metadata": {},
   "source": [
    "### Gradient update\n",
    "\n",
    "If $k = 0$,\n",
    "\n",
    "$$\\tilde{g}_{k+1}^t = \\sum_i \\sigma(z_i^t) - \\sum_i y_i \\frac{\\sigma(z_i^t)}{q(z_i^t)}$$\n",
    "\n",
    "If $k > 0$,\n",
    "\n",
    "$$\\tilde{g}_{k+1}^t = \\sum_i \\sigma(z_i^t) x_{i,k+1} - \\sum_i y_i \\frac{\\sigma(z_i^t)}{q(z_i^t)}x_{i,k+1} + \\lambda(1-\\alpha)\\beta_{k+1}^t$$ "
   ]
  },
  {
   "cell_type": "code",
   "execution_count": 9,
   "metadata": {
    "collapsed": true
   },
   "outputs": [],
   "source": [
    "# Gradient update for a single coordinate\n",
    "def grad_loss_k(z, beta_k, alpha, rl, xk, y, k):\n",
    "    q = qu(z)\n",
    "    s = expit(z)\n",
    "    \n",
    "    if(k == 0):\n",
    "        gk = np.sum(s) - np.sum(y*s/q)\n",
    "    else:\n",
    "        gk = np.sum(s*xk) - np.sum(y*s/q*xk) + rl*(1-alpha)*beta_k\n",
    "    return gk"
   ]
  },
  {
   "cell_type": "markdown",
   "metadata": {},
   "source": [
    "### Hessian update\n",
    "\n",
    "If $k = 0$,\n",
    "\n",
    "$$\n",
    "h_{k+1}^t = \\sum_i \\sigma(z_i^t)(1 - \\sigma(z_i^t)) \n",
    "- \\sum_i y_i \\bigg\\{ \\frac{\\sigma(z_i^t) (1 - \\sigma(z_i^t))}{q(z_i^t)} - \\frac{\\sigma(z_i^t)}{q(z_i^t)^2} \\bigg\\}\n",
    "$$\n",
    "\n",
    "If $k > 0$,\n",
    "\n",
    "$$\n",
    "h_{k+1}^t = \\sum_i \\sigma(z_i^t)(1 - \\sigma(z_i^t)) x_{i,k+1}^2 \n",
    "- \\sum_i y_i \\bigg\\{ \\frac{\\sigma(z_i^t) (1 - \\sigma(z_i^t))}{q(z_i^t)} - \\frac{\\sigma(z_i^t)}{q(z_i^t)^2} \\bigg\\}x_{i,k+1}^2 + \\lambda(1-\\alpha)\n",
    "$$\n"
   ]
  },
  {
   "cell_type": "code",
   "execution_count": 10,
   "metadata": {
    "collapsed": false
   },
   "outputs": [],
   "source": [
    "# Hessian update for a single coordinate\n",
    "def hess_loss_k(z, alpha, rl, xk, y, k):\n",
    "    q = qu(z)\n",
    "    s = expit(z)\n",
    "    grad_s = s*(1-s)\n",
    "    grad_s_by_q = grad_s/q - s/(q*q)\n",
    "\n",
    "    if(k == 0):\n",
    "        hk = np.sum(grad_s) - np.sum(y*grad_s_by_q)\n",
    "    else:\n",
    "        hk = np.sum(grad_s*xk*xk) - np.sum(y*grad_s_by_q*xk*xk) + rl*(1-alpha)\n",
    "    return hk"
   ]
  },
  {
   "cell_type": "markdown",
   "metadata": {},
   "source": [
    "### Regularization paths and warm restarts\n",
    "\n",
    "Explain stuff about path and warm restarts."
   ]
  },
  {
   "cell_type": "markdown",
   "metadata": {},
   "source": [
    "### Algorithm\n",
    "\n",
    "Give the algorithm in an algorithm table"
   ]
  },
  {
   "cell_type": "markdown",
   "metadata": {},
   "source": [
    "## Implementation"
   ]
  },
  {
   "cell_type": "markdown",
   "metadata": {},
   "source": [
    "### Simulate some data"
   ]
  },
  {
   "cell_type": "code",
   "execution_count": 254,
   "metadata": {
    "collapsed": false
   },
   "outputs": [],
   "source": [
    "# Simulate data\n",
    "from scipy.stats import zscore\n",
    "N = 100000\n",
    "p = 1000\n",
    "x = np.random.normal(0.0, 1.0, [N,p])\n",
    "beta0 = np.random.normal(0.0, 1.0, 1)\n",
    "beta = sps.rand(p,1,0.1)\n",
    "beta = np.array(beta.todense())\n",
    "y = np.random.poisson(lmb(beta0, beta, zscore(x)))"
   ]
  },
  {
   "cell_type": "markdown",
   "metadata": {},
   "source": [
    "### Initialize parameters"
   ]
  },
  {
   "cell_type": "code",
   "execution_count": 255,
   "metadata": {
    "collapsed": false
   },
   "outputs": [],
   "source": [
    "reg_lambda = np.logspace(np.log(0.5), np.log(0.01), 100, base=np.exp(1))\n",
    "alpha = 0.2"
   ]
  },
  {
   "cell_type": "markdown",
   "metadata": {},
   "source": [
    "### Initialize weights"
   ]
  },
  {
   "cell_type": "code",
   "execution_count": 256,
   "metadata": {
    "collapsed": true
   },
   "outputs": [],
   "source": [
    "beta0_hat = 0.1*np.random.normal(0.0,1.0,1)\n",
    "beta_hat = 0.1*np.random.normal(0.0,1.0,[p,1])\n"
   ]
  },
  {
   "cell_type": "markdown",
   "metadata": {},
   "source": [
    "### Fitting function"
   ]
  },
  {
   "cell_type": "code",
   "execution_count": 257,
   "metadata": {
    "collapsed": false
   },
   "outputs": [],
   "source": [
    "# Native python function\n",
    "def fitmodel(x, y, reg_lambda, alpha):\n",
    "\n",
    "    n = x.shape[0]\n",
    "    p = x.shape[1]\n",
    "    \n",
    "    beta0_hat = np.random.normal(0.0,1.0,1)\n",
    "    beta_hat = np.random.normal(0.0,1.0,[p,1])\n",
    "    fit = []\n",
    "        \n",
    "    # Outer loop with descending lambda\n",
    "    for l,rl in enumerate(reg_lambda):\n",
    "        fit.append({'beta0': 0., 'beta': np.zeros([p,1])})\n",
    "        print('Lambda: {}\\n').format(rl)\n",
    "        \n",
    "        # Warm initialize parameters\n",
    "        if(l == 0):\n",
    "            fit[-1]['beta0'] = beta0_hat\n",
    "            fit[-1]['beta'] = beta_hat\n",
    "        else:\n",
    "            fit[-1]['beta0'] = fit[-2]['beta0']\n",
    "            fit[-1]['beta'] = fit[-2]['beta']\n",
    "                \n",
    "        #---------------------------\n",
    "        # Iterate until convergence\n",
    "        #---------------------------\n",
    "        no_convergence = 1\n",
    "        convergence_threshold = 1e-3\n",
    "        c = 0\n",
    "        \n",
    "        # Initialize parameters\n",
    "        beta_prev = np.zeros([p+1,1])\n",
    "        beta = np.zeros([p+1,1])\n",
    "        \n",
    "        beta_prev[0] = beta0_hat[:]\n",
    "        beta_prev[1:] = beta_hat[:]\n",
    "        z_prev = beta_prev[0] + np.dot(x, beta_prev[1:])\n",
    "        z = z_prev\n",
    "        \n",
    "        # Initialize gradient/ Hessian\n",
    "        g = np.zeros([p+1,1])\n",
    "        h = np.zeros([p+1,1])\n",
    "        \n",
    "        grad_beta0, grad_beta = grad_loss(beta0_hat, beta_hat, alpha, rl, x, y)\n",
    "        g[0] = grad_beta0\n",
    "        g[1:] = grad_beta\n",
    "        \n",
    "        hess_beta0, hess_beta = hessian_loss(beta0_hat, beta_hat, alpha, rl, x, y)\n",
    "        h[0] = hess_beta0\n",
    "        h[1:] = hess_beta\n",
    "        \n",
    "        # Middle loop for cycles\n",
    "        L = []\n",
    "        DL = []\n",
    "        \n",
    "        # Initialize active set\n",
    "        K = range(p)\n",
    "    \n",
    "        while(no_convergence):\n",
    "            # Inner loop for coordinate descent\n",
    "            print('  Cycle: {}\\n'.format(c))\n",
    "            for k in K:\n",
    "                if np.mod(k,10) == 0:\n",
    "                    print('    parameter: {}'.format(k))\n",
    "                    \n",
    "                # Update the parameters\n",
    "                #TODO: include a line search in place of h\n",
    "                #TODO: include momentum\n",
    "                beta[k] = beta_prev[k] - g[k]/h[k]\n",
    "                \n",
    "                #print 'beta_k: {}'.format(beta[k])\n",
    "                #print 'lambda*alpha: {}'.format(rl*alpha)\n",
    "                \n",
    "                # Soft threshold for k > 0\n",
    "                if k>0:\n",
    "                    beta[k] = prox(beta[k], rl*alpha)\n",
    "                \n",
    "                #print 'soft thresholded beta_k: {}'.format(beta[k])\n",
    "                \n",
    "                #Update z\n",
    "                z = z_prev - g[k]/h[k]*x[:,k] \n",
    "                \n",
    "                #Calculate gradient\n",
    "                g[k] = grad_loss_k(z, beta[k], alpha, rl, x[:,k], y, k)\n",
    "                \n",
    "                #Calculate Hessian\n",
    "                h[k] = hess_loss_k(z, alpha, rl, x[:,k], y, k)\n",
    "                \n",
    "                # Housekeeping\n",
    "                beta_prev[k] = beta[k]\n",
    "                z_prev = z\n",
    "            \n",
    "            # Calculate loss and convergence criteria\n",
    "            L.append(loss(beta[0], beta[1:], alpha, rl, x, y))\n",
    "            print('    Loss function: {}').format(L[c])\n",
    "            \n",
    "            # Update active set\n",
    "            K = list(set(K) - set([i for (i, val) in enumerate(beta[1:]) if val == 0]))\n",
    "            print \"    Active set size:{}\".format(len(K))\n",
    "            \n",
    "            # Delta loss and convergence criterion\n",
    "            if c > 0:\n",
    "                DL.append(L[c] - L[c-1])\n",
    "                print('    dL/L: {}').format(DL[-1]/L[-1])\n",
    "                if(np.abs(DL[-1]/L[-1]) < convergence_threshold):\n",
    "                    no_convergence = 0\n",
    "                    print('Converged\\n')\n",
    "            c = c+1\n",
    "            \n",
    "        #Store the parameters after convergence\n",
    "        fit[-1]['beta0'] = beta[0]\n",
    "        fit[-1]['beta'] = beta[1:]\n",
    "    \n",
    "    return fit"
   ]
  },
  {
   "cell_type": "code",
   "execution_count": 258,
   "metadata": {
    "collapsed": true
   },
   "outputs": [],
   "source": [
    "# Native python function\n",
    "def fitmodel_graddesc(x, y, reg_lambda, alpha):\n",
    "\n",
    "    n = x.shape[0]\n",
    "    p = x.shape[1]\n",
    "    \n",
    "    beta0_hat = np.random.normal(0.0,1.0,1)\n",
    "    beta_hat = np.random.normal(0.0,1.0,[p,1])\n",
    "    fit = []\n",
    "        \n",
    "    # Outer loop with descending lambda\n",
    "    for l,rl in enumerate(reg_lambda):\n",
    "        fit.append({'beta0': 0., 'beta': np.zeros([p,1])})\n",
    "        print('Lambda: {}\\n').format(rl)\n",
    "        \n",
    "        # Warm initialize parameters\n",
    "        if(l == 0):\n",
    "            fit[-1]['beta0'] = beta0_hat\n",
    "            fit[-1]['beta'] = beta_hat\n",
    "        else:\n",
    "            fit[-1]['beta0'] = fit[-2]['beta0']\n",
    "            fit[-1]['beta'] = fit[-2]['beta']\n",
    "                \n",
    "        #---------------------------\n",
    "        # Iterate until convergence\n",
    "        #---------------------------\n",
    "        no_convergence = 1\n",
    "        convergence_threshold = 1e-3\n",
    "        c = 0\n",
    "        \n",
    "        # Initialize parameters\n",
    "        beta_prev = np.zeros([p+1,1])\n",
    "        beta = np.zeros([p+1,1])\n",
    "        \n",
    "        beta_prev[0] = beta0_hat[:]\n",
    "        beta_prev[1:] = beta_hat[:]\n",
    "        z_prev = beta_prev[0] + np.dot(x, beta_prev[1:])\n",
    "        z = z_prev\n",
    "        \n",
    "        # Initialize gradient/ Hessian\n",
    "        g = np.zeros([p+1,1])\n",
    "        h = np.zeros([p+1,1])\n",
    "        \n",
    "        grad_beta0, grad_beta = grad_loss(beta0_hat, beta_hat, alpha, rl, x, y)\n",
    "        g[0] = grad_beta0\n",
    "        g[1:] = grad_beta\n",
    "        \n",
    "        hess_beta0, hess_beta = hessian_loss(beta0_hat, beta_hat, alpha, rl, x, y)\n",
    "        h[0] = hess_beta0\n",
    "        h[1:] = hess_beta\n",
    "        \n",
    "        # Middle loop for cycles\n",
    "        L = []\n",
    "        DL = []\n",
    "        \n",
    "        # Initialize active set\n",
    "        K = range(p)\n",
    "    \n",
    "        while(no_convergence):\n",
    "            \n",
    "            # Update all parameters at once\n",
    "            beta = beta_prev - 1e-4*g\n",
    "            beta[1:] = prox(beta[1:], rl*alpha)\n",
    "            \n",
    "            #Re-calculate gradient\n",
    "            grad_beta0, grad_beta = grad_loss(beta[0], beta[1:], alpha, rl, x, y)\n",
    "            g[0] = grad_beta0\n",
    "            g[1:] = grad_beta\n",
    "                \n",
    "            # Housekeeping\n",
    "            beta_prev = beta\n",
    "            \n",
    "            # Calculate loss and convergence criteria\n",
    "            L.append(loss(beta[0], beta[1:], alpha, rl, x, y))\n",
    "            #print('    Loss function: {}').format(L[c])\n",
    "            \n",
    "            # Update active set\n",
    "            K = list(set(K) - set([i for (i, val) in enumerate(beta[1:]) if val == 0]))\n",
    "            #print \"    Active set size:{}\".format(len(K))\n",
    "            \n",
    "            # Delta loss and convergence criterion\n",
    "            if c > 0:\n",
    "                DL.append(L[c] - L[c-1])\n",
    "                #print('    dL/L: {}').format(DL[-1]/L[-1])\n",
    "                if(np.abs(DL[-1]/L[-1]) < convergence_threshold):\n",
    "                    no_convergence = 0\n",
    "                    print('Converged\\n')\n",
    "                    print('    Loss function: {}').format(L[c])\n",
    "                    print \"    Active set size:{}\".format(len(K))\n",
    "                    print('    dL/L: {}').format(DL[-1]/L[-1])\n",
    "            c = c+1\n",
    "            \n",
    "        #Store the parameters after convergence\n",
    "        fit[-1]['beta0'] = beta[0]\n",
    "        fit[-1]['beta'] = beta[1:]\n",
    "    \n",
    "    return fit"
   ]
  },
  {
   "cell_type": "code",
   "execution_count": 270,
   "metadata": {
    "collapsed": false,
    "scrolled": false
   },
   "outputs": [
    {
     "name": "stdout",
     "output_type": "stream",
     "text": [
      "Lambda: 0.01\n",
      "\n",
      "Converged\n",
      "\n",
      "    Loss function: -293492.561063\n",
      "    Active set size:567\n",
      "    dL/L: 0.000496266470048\n",
      "Lambda: 0.01\n",
      "\n",
      "Converged\n",
      "\n",
      "    Loss function: -293440.585765\n",
      "    Active set size:576\n",
      "    dL/L: 0.000809648361307\n",
      "Lambda: 0.01\n",
      "\n",
      "Converged\n",
      "\n",
      "    Loss function: -293464.964227\n",
      "    Active set size:575\n",
      "    dL/L: 0.000666266879063\n",
      "Lambda: 0.01\n",
      "\n",
      "Converged\n",
      "\n",
      "    Loss function: -293505.271544\n",
      "    Active set size:553\n",
      "    dL/L: 0.000414236857936\n",
      "1 loop, best of 3: 6.21 s per loop\n"
     ]
    }
   ],
   "source": [
    "from scipy.stats import zscore\n",
    "%timeit fit = fitmodel_graddesc(zscore(x),y,[0.01],alpha)"
   ]
  },
  {
   "cell_type": "code",
   "execution_count": null,
   "metadata": {
    "collapsed": true
   },
   "outputs": [],
   "source": []
  },
  {
   "cell_type": "code",
   "execution_count": null,
   "metadata": {
    "collapsed": true
   },
   "outputs": [],
   "source": []
  },
  {
   "cell_type": "code",
   "execution_count": null,
   "metadata": {
    "collapsed": true
   },
   "outputs": [],
   "source": []
  },
  {
   "cell_type": "code",
   "execution_count": 267,
   "metadata": {
    "collapsed": false,
    "scrolled": true
   },
   "outputs": [
    {
     "data": {
      "image/png": "[encoded data removed]",
      "text/plain": [
       "<matplotlib.figure.Figure at 0x7fc01b08de50>"
      ]
     },
     "metadata": {},
     "output_type": "display_data"
    }
   ],
   "source": [
    "plt.plot(beta[:], 'bo')\n",
    "plt.hold(True)\n",
    "plt.plot(fit[0]['beta'][:], 'ro')\n",
    "plt.show()"
   ]
  },
  {
   "cell_type": "code",
   "execution_count": null,
   "metadata": {
    "collapsed": true
   },
   "outputs": [],
   "source": []
  },
  {
   "cell_type": "code",
   "execution_count": null,
   "metadata": {
    "collapsed": true
   },
   "outputs": [],
   "source": []
  },
  {
   "cell_type": "code",
   "execution_count": 268,
   "metadata": {
    "collapsed": false
   },
   "outputs": [
    {
     "data": {
      "image/png": "[encoded data removed]",
      "text/plain": [
       "<matplotlib.figure.Figure at 0x7fc01b08d950>"
      ]
     },
     "metadata": {},
     "output_type": "display_data"
    }
   ],
   "source": [
    "yhat = lmb(fit[0]['beta0'], fit[0]['beta'], zscore(x))\n",
    "plt.plot(y[:100])\n",
    "plt.hold(True)\n",
    "plt.plot(yhat[:100])\n",
    "plt.show()"
   ]
  },
  {
   "cell_type": "code",
   "execution_count": null,
   "metadata": {
    "collapsed": true
   },
   "outputs": [],
   "source": []
  },
  {
   "cell_type": "code",
   "execution_count": null,
   "metadata": {
    "collapsed": true
   },
   "outputs": [],
   "source": []
  },
  {
   "cell_type": "code",
   "execution_count": 269,
   "metadata": {
    "collapsed": false
   },
   "outputs": [
    {
     "data": {
      "text/plain": [
       "array([[ 1.        ,  0.90823863],\n",
       "       [ 0.90823863,  1.        ]])"
      ]
     },
     "execution_count": 269,
     "metadata": {},
     "output_type": "execute_result"
    }
   ],
   "source": [
    "np.corrcoef(np.transpose(y), np.transpose(yhat))"
   ]
  },
  {
   "cell_type": "code",
   "execution_count": null,
   "metadata": {
    "collapsed": true
   },
   "outputs": [],
   "source": []
  },
  {
   "cell_type": "markdown",
   "metadata": {},
   "source": [
    "### TO-DO List\n",
    "\n",
    "1. Figure out why coordinate descent doesn't converge\n",
    "\n",
    "2. Implement a clean version of gradient descent\n",
    "    \n",
    "    [2.1] learning rate\n",
    "    \n",
    "    [2.2] momentum \n",
    "    \n",
    "    [2.3] SGD\n",
    "    \n",
    "    [2.4] num-iter (so that it can be coopted into any SGD implementation\n",
    "    \n",
    "3. Write a \"model\" class that has \n",
    "\n",
    "    [3.1] 'fit'\n",
    "    [3.2] 'predict'\n",
    "    [3.3] 'pseudo-R2'\n",
    "    [3.4] 'model_compare'"
   ]
  },
  {
   "cell_type": "code",
   "execution_count": null,
   "metadata": {
    "collapsed": true
   },
   "outputs": [],
   "source": []
  },
  {
   "cell_type": "code",
   "execution_count": null,
   "metadata": {
    "collapsed": true
   },
   "outputs": [],
   "source": []
  },
  {
   "cell_type": "code",
   "execution_count": null,
   "metadata": {
    "collapsed": true
   },
   "outputs": [],
   "source": []
  },
  {
   "cell_type": "code",
   "execution_count": null,
   "metadata": {
    "collapsed": true
   },
   "outputs": [],
   "source": []
  }
 ],
 "metadata": {
  "kernelspec": {
   "display_name": "Python 2",
   "language": "python",
   "name": "python2"
  },
  "language_info": {
   "codemirror_mode": {
    "name": "ipython",
    "version": 2
   },
   "file_extension": ".py",
   "mimetype": "text/x-python",
   "name": "python",
   "nbconvert_exporter": "python",
   "pygments_lexer": "ipython2",
   "version": "2.7.11"
  }
 },
 "nbformat": 4,
 "nbformat_minor": 0
}

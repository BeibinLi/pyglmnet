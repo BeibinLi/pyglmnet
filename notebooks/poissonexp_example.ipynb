{
 "cells": [
  {
   "cell_type": "code",
   "execution_count": 10,
   "metadata": {
    "collapsed": false
   },
   "outputs": [],
   "source": [
    "import numpy as np\n",
    "from sklearn.preprocessing import StandardScaler\n",
    "import scipy.sparse as sps\n",
    "from scipy.special import expit\n",
    "import matplotlib.pyplot as plt\n",
    "%matplotlib inline"
   ]
  },
  {
   "cell_type": "code",
   "execution_count": 29,
   "metadata": {
    "collapsed": false
   },
   "outputs": [],
   "source": [
    "# import GLM model\n",
    "from pyglmnet import GLM\n",
    "\n",
    "# create regularization parameters for model\n",
    "reg_lambda = np.logspace(np.log(0.5), np.log(0.01), 10, base=np.exp(1))\n",
    "model = GLM(distr='poissonexp', verbose=False, alpha=0.05, \n",
    "            max_iter=1000, learning_rate=1e-5, \n",
    "            reg_lambda=reg_lambda, eta=4.0)"
   ]
  },
  {
   "cell_type": "markdown",
   "metadata": {},
   "source": [
    "### Linearize the exponential at large values"
   ]
  },
  {
   "cell_type": "markdown",
   "metadata": {},
   "source": [
    "$$\n",
    "J = \\sum_i \\lambda_i - y_i \\log \\lambda_i\n",
    "$$\n",
    "\n",
    "where \n",
    "\n",
    "\\lambda_i = \n",
    "\\begin{cases}\n",
    "    \\exp(z_i), & \\text{if}\\ z_i \\leq \\eta \\\\\n",
    "    \\\\\n",
    "     \\exp(\\eta)z_i + (1-\\eta)\\exp(\\eta), & \\text{if}\\ z_i \\gt \\eta\n",
    "\\end{cases}\n",
    "\n",
    "and \n",
    "\n",
    "$$\n",
    "z_i = \\beta_0 + \\sum_j \\beta_j x_{ij}\n",
    "$$\n",
    "\n",
    "Taking gradients,\n",
    "\n",
    "$$\n",
    "\\frac{\\partial J}{\\partial \\beta_j} = \\sum_i \\frac{\\partial J}{\\partial \\lambda_i} \\frac{\\partial \\lambda_i}{\\partial z_i} \\frac{\\partial z_i}{\\partial \\beta_j}\n",
    "$$\n",
    "\n",
    "$$\n",
    "\\frac{\\partial J}{\\partial \\beta_0} = \n",
    "\\begin{cases}\n",
    "    \\sum_i \\Big(\\lambda_i - y_i\\Big), & \\text{if}\\ z_i \\leq \\eta \\\\\n",
    "    \\\\\n",
    "    \\exp(\\eta) \\sum_i \\Big(1 - \\frac{\\lambda_i}{y_i}\\Big), & \\text{if}\\ z_i \\gt \\eta\n",
    "\\end{cases}\n",
    "$$\n",
    "\n",
    "$$\n",
    "\\frac{\\partial J}{\\partial \\beta_j} = \n",
    "\\begin{cases}\n",
    "    \\sum_i \\Big(\\lambda_i - y_i\\Big)x_{ij}, & \\text{if}\\ z_i \\leq \\eta \\\\\n",
    "    \\\\\n",
    "    \\exp(\\eta) \\sum_i \\Big(1 - \\frac{\\lambda_i}{y_i}\\Big)x_{ij}, & \\text{if}\\ z_i \\gt \\eta\n",
    "\\end{cases}\n",
    "$$\n"
   ]
  },
  {
   "cell_type": "code",
   "execution_count": 30,
   "metadata": {
    "collapsed": false
   },
   "outputs": [],
   "source": [
    "z = np.linspace(0., 10., 100)\n",
    "qu = model.qu(z)"
   ]
  },
  {
   "cell_type": "code",
   "execution_count": 31,
   "metadata": {
    "collapsed": false
   },
   "outputs": [
    {
     "data": {
      "image/png": "[encoded data removed]",
      "text/plain": [
       "<matplotlib.figure.Figure at 0x10daa8750>"
      ]
     },
     "metadata": {},
     "output_type": "display_data"
    }
   ],
   "source": [
    "plt.plot(z, qu)\n",
    "plt.hold\n",
    "plt.plot(z, np.exp(z))\n",
    "plt.ylim([0, 1000])\n",
    "plt.show()"
   ]
  },
  {
   "cell_type": "code",
   "execution_count": 32,
   "metadata": {
    "collapsed": false
   },
   "outputs": [],
   "source": [
    "# Dataset size\n",
    "N = 10000\n",
    "p = 100\n",
    "\n",
    "# Coefficients\n",
    "\n",
    "# baseline term\n",
    "beta0 = np.random.normal(0.0, 1.0, 1)\n",
    "# sparse model terms\n",
    "beta = sps.rand(p,1,0.1)\n",
    "beta = np.array(beta.todense())\n",
    "\n",
    "# Training data\n",
    "Xr = np.random.normal(0.0, 1.0, [N,p])\n",
    "yr = model.simulate(beta0, beta, Xr)\n",
    "\n",
    "# Test data\n",
    "Xt = np.random.normal(0.0, 1.0, [N,p])\n",
    "yt = model.simulate(beta0, beta, Xt)"
   ]
  },
  {
   "cell_type": "code",
   "execution_count": 33,
   "metadata": {
    "collapsed": false
   },
   "outputs": [],
   "source": [
    "# Fit model to training data\n",
    "scaler = StandardScaler().fit(Xr)\n",
    "model.fit(scaler.transform(Xr),yr);"
   ]
  },
  {
   "cell_type": "code",
   "execution_count": 34,
   "metadata": {
    "collapsed": false
   },
   "outputs": [
    {
     "data": {
      "text/plain": [
       "array([[-27.23690522],\n",
       "       [ 63.58744623],\n",
       "       [-41.7403622 ],\n",
       "       [-17.54809735],\n",
       "       [-10.23549695]])"
      ]
     },
     "execution_count": 34,
     "metadata": {},
     "output_type": "execute_result"
    }
   ],
   "source": [
    "grad_beta0, grad_beta = model.grad_L2loss(model.fit_[-1]['beta0'], model.fit_[-1]['beta'], 0.01, Xr, yr)\n",
    "grad_beta[:5]"
   ]
  },
  {
   "cell_type": "code",
   "execution_count": 35,
   "metadata": {
    "collapsed": false
   },
   "outputs": [],
   "source": [
    "m = model[-1]\n",
    "this_model_param = m.fit_\n",
    "yrhat = m.predict(scaler.transform(Xr))\n",
    "ythat = m.predict(scaler.transform(Xt))\n"
   ]
  },
  {
   "cell_type": "code",
   "execution_count": 36,
   "metadata": {
    "collapsed": false
   },
   "outputs": [
    {
     "data": {
      "image/png": "[encoded data removed]",
      "text/plain": [
       "<matplotlib.figure.Figure at 0x10a2c8b50>"
      ]
     },
     "metadata": {},
     "output_type": "display_data"
    }
   ],
   "source": [
    "# Visualize fits\n",
    "plt.plot(yt[:100])\n",
    "plt.hold(True)\n",
    "plt.plot(ythat[:100], 'r')\n",
    "plt.show()"
   ]
  },
  {
   "cell_type": "code",
   "execution_count": 37,
   "metadata": {
    "collapsed": false
   },
   "outputs": [
    {
     "data": {
      "text/plain": [
       "0.6898553867879621"
      ]
     },
     "execution_count": 37,
     "metadata": {},
     "output_type": "execute_result"
    }
   ],
   "source": [
    "m.pseudo_R2(yt, ythat, np.mean(yr))"
   ]
  },
  {
   "cell_type": "code",
   "execution_count": null,
   "metadata": {
    "collapsed": true
   },
   "outputs": [],
   "source": []
  }
 ],
 "metadata": {
  "kernelspec": {
   "display_name": "Python 2",
   "language": "python",
   "name": "python2"
  },
  "language_info": {
   "codemirror_mode": {
    "name": "ipython",
    "version": 2
   },
   "file_extension": ".py",
   "mimetype": "text/x-python",
   "name": "python",
   "nbconvert_exporter": "python",
   "pygments_lexer": "ipython2",
   "version": "2.7.11"
  }
 },
 "nbformat": 4,
 "nbformat_minor": 0
}

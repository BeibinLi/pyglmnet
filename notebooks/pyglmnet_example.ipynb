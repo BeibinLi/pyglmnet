{
 "cells": [
  {
   "cell_type": "code",
   "execution_count": 1,
   "metadata": {
    "collapsed": false
   },
   "outputs": [],
   "source": [
    "import numpy as np\n",
    "from sklearn.preprocessing import StandardScaler\n",
    "import scipy.sparse as sps\n",
    "from scipy.special import expit\n",
    "import matplotlib.pyplot as plt\n",
    "%matplotlib inline"
   ]
  },
  {
   "cell_type": "code",
   "execution_count": 2,
   "metadata": {
    "collapsed": false
   },
   "outputs": [],
   "source": [
    "np.random.seed(0)"
   ]
  },
  {
   "cell_type": "markdown",
   "metadata": {},
   "source": [
    "## **Instantiate a GLM class**\n",
    "\n",
    "Here are inputs that you can provide when you instantiate the `GLM` class. If not provided, it will be set to the respective defaults\n",
    "\n",
    "- `distr`: str, `'poisson'` or `'normal'` or `'binomial'` or `'multinomial'`\n",
    "    default: `'poisson'`\n",
    "- `alpha`: float, the weighting between L1 and L2 norm, default: 0.5\n",
    "- `reg_lambda`: array, array of regularized parameters,\n",
    "    default: `np.logspace(np.log(0.5), np.log(0.01), 10, base=np.exp(1))`\n",
    "- `learning_rate`: float, learning rate for gradient descent,\n",
    "    default: 1e-4\n",
    "- `max_iter`: int, maximum iteration for the model, default: 100"
   ]
  },
  {
   "cell_type": "code",
   "execution_count": 3,
   "metadata": {
    "collapsed": false
   },
   "outputs": [],
   "source": [
    "# import GLM model\n",
    "from pyglmnet import GLM\n",
    "\n",
    "# create regularize parameters for model\n",
    "reg_lambda = np.logspace(np.log(0.5), np.log(0.01), 10, base=np.exp(1))\n",
    "model = GLM(distr='poisson', verbose=False, alpha=0.05, \n",
    "            max_iter=1000, learning_rate=1e-4, \n",
    "            reg_lambda=reg_lambda)"
   ]
  },
  {
   "cell_type": "markdown",
   "metadata": {},
   "source": [
    "## **Simulate a dataset**\n",
    "The ```GLM``` class has a very useful method called ```simulate()```. \n",
    "\n",
    "Since a canonical link function is already specified by the distribution parameters, or provided by the user, ```simulate()``` requires only the independent variables ```X``` and the coefficients ```beta0``` and ```beta```"
   ]
  },
  {
   "cell_type": "code",
   "execution_count": 4,
   "metadata": {
    "collapsed": false
   },
   "outputs": [],
   "source": [
    "# Dataset size\n",
    "N = 10000\n",
    "p = 100\n",
    "\n",
    "# Coefficients\n",
    "\n",
    "# baseline term\n",
    "beta0 = np.random.normal(0.0, 1.0, 1)\n",
    "# sparse model terms\n",
    "beta = sps.rand(p,1,0.1)\n",
    "beta = np.array(beta.todense())\n",
    "\n",
    "# Training data\n",
    "Xr = np.random.normal(0.0, 1.0, [N,p])\n",
    "yr = model.simulate(beta0, beta, Xr)\n",
    "\n",
    "# Test data\n",
    "Xt = np.random.normal(0.0, 1.0, [N,p])\n",
    "yt = model.simulate(beta0, beta, Xt)"
   ]
  },
  {
   "cell_type": "markdown",
   "metadata": {},
   "source": [
    "## **Fit the model**\n",
    "\n",
    "Fitting the model is accomplished by a single ```GLM``` method called ```fit()```. You can provide data and output pair `(X, y)` i.e.\n",
    "\n",
    "```python\n",
    "model.fit(X, y)\n",
    "```"
   ]
  },
  {
   "cell_type": "code",
   "execution_count": 5,
   "metadata": {
    "collapsed": false
   },
   "outputs": [],
   "source": [
    "# Fit model to training data\n",
    "scaler = StandardScaler().fit(Xr)\n",
    "model.fit(scaler.transform(Xr),yr);"
   ]
  },
  {
   "cell_type": "markdown",
   "metadata": {},
   "source": [
    "### Visualize the fit coefficients\n",
    "\n",
    "The estimated coefficients are stored in an instance variable called `.fit_` which is a list of dictionaries. Each dictionary corresponds to a particular `reg_lambda`"
   ]
  },
  {
   "cell_type": "code",
   "execution_count": 6,
   "metadata": {
    "collapsed": false
   },
   "outputs": [
    {
     "data": {
      "image/png": "[encoded data removed]",
      "text/plain": [
       "<matplotlib.figure.Figure at 0x7f1e467d6e10>"
      ]
     },
     "metadata": {},
     "output_type": "display_data"
    }
   ],
   "source": [
    "# Visualize estimated coefficients\n",
    "model.fit_\n",
    "fit_param = model.fit_[-2]\n",
    "plt.plot(beta[:], 'bo')\n",
    "plt.hold(True)\n",
    "plt.plot(fit_param['beta'][:], 'ro')\n",
    "plt.show()"
   ]
  },
  {
   "cell_type": "markdown",
   "metadata": {},
   "source": [
    "### Slicing the model object\n",
    "\n",
    "Although the model is fit to all values of `reg_lambda` specified by a regularization path, often we are only interested in further analysis for a particular value of `reg_lambda`. We can easily do this by slicing the object. \n",
    "\n",
    "For instance `model[0]` returns an object identical to `model` but with `.fit_` as a dictionary corresponding to the estimated coefficients for `reg_lambda[0]`. "
   ]
  },
  {
   "cell_type": "code",
   "execution_count": 7,
   "metadata": {
    "collapsed": false
   },
   "outputs": [
    {
     "name": "stdout",
     "output_type": "stream",
     "text": [
      "[[ 0.01569375]\n",
      " [-0.03319941]\n",
      " [ 0.00102511]\n",
      " [ 0.00139603]\n",
      " [-0.01391651]]\n",
      "[ 1.73995812]\n"
     ]
    }
   ],
   "source": [
    "m = model[-1]\n",
    "this_model_param = m.fit_\n",
    "print this_model_param['beta'][:5]\n",
    "print this_model_param['beta0']"
   ]
  },
  {
   "cell_type": "markdown",
   "metadata": {},
   "source": [
    "### Make predictions based on fit model\n",
    "The ```predict()``` method takes two parameters: a numpy 2d array of independent variables and a dictionary of fit parameters. It returns a vector of predicted targets.\n",
    "\n"
   ]
  },
  {
   "cell_type": "code",
   "execution_count": 8,
   "metadata": {
    "collapsed": false
   },
   "outputs": [
    {
     "data": {
      "image/png": "[encoded data removed]",
      "text/plain": [
       "<matplotlib.figure.Figure at 0x7f1e425707d0>"
      ]
     },
     "metadata": {},
     "output_type": "display_data"
    }
   ],
   "source": [
    "# Predict targets from test set\n",
    "yrhat = m.predict(scaler.transform(Xr))\n",
    "ythat = m.predict(scaler.transform(Xt))\n",
    "\n",
    "plt.plot(yt[:100])\n",
    "plt.hold(True)\n",
    "plt.plot(ythat[:100], 'r')\n",
    "plt.show()"
   ]
  },
  {
   "cell_type": "markdown",
   "metadata": {},
   "source": [
    "## **Goodness of fit**\n",
    "\n",
    "The ```GLM``` class provides two methods for evaluating goodness of fit: ```deviance()``` and ```pseudo_R2()```. Both of them require the true targets and the predicted targets as inputs. ```pseudo_R2()``` additionally requires a null model, which is typically the mean of the target variables in the training set."
   ]
  },
  {
   "cell_type": "code",
   "execution_count": 9,
   "metadata": {
    "collapsed": false
   },
   "outputs": [
    {
     "name": "stdout",
     "output_type": "stream",
     "text": [
      "10459.8852543 10926.8204694\n"
     ]
    }
   ],
   "source": [
    "# Compute model deviance\n",
    "Dr = m.deviance(yr, yrhat)\n",
    "Dt = m.deviance(yt, ythat)\n",
    "print Dr, Dt"
   ]
  },
  {
   "cell_type": "code",
   "execution_count": 10,
   "metadata": {
    "collapsed": false
   },
   "outputs": [
    {
     "name": "stdout",
     "output_type": "stream",
     "text": [
      "0.499274174475 0.479238433821\n"
     ]
    }
   ],
   "source": [
    "# Compute pseudo-R2s\n",
    "R2r = m.pseudo_R2(yr, yrhat, np.mean(yr))\n",
    "R2t = m.pseudo_R2(yt, ythat, np.mean(yr))\n",
    "print R2r, R2t"
   ]
  },
  {
   "cell_type": "code",
   "execution_count": 11,
   "metadata": {
    "collapsed": false
   },
   "outputs": [],
   "source": [
    "import scikits.bootstrap as boot"
   ]
  },
  {
   "cell_type": "code",
   "execution_count": 12,
   "metadata": {
    "collapsed": false
   },
   "outputs": [
    {
     "name": "stdout",
     "output_type": "stream",
     "text": [
      "[ 0.48887523  0.50714237]\n"
     ]
    },
    {
     "name": "stderr",
     "output_type": "stream",
     "text": [
      "/home/pavan/anaconda2/lib/python2.7/site-packages/scikits/bootstrap/bootstrap.py:202: InstabilityWarning: Some values used top 10 low/high samples; results may be unstable.\n",
      "  warnings.warn(\"Some values used top 10 low/high samples; results may be unstable.\", InstabilityWarning)\n"
     ]
    }
   ],
   "source": [
    "# Get bootstrap CIs for pseudo-R2s\n",
    "ci = boot.ci((yr, yrhat, np.mean(yr)*np.ones(np.shape(yr)[0])), statfunction=model.pseudo_R2, n_samples=100, alpha=0.05)\n",
    "print ci"
   ]
  },
  {
   "cell_type": "markdown",
   "metadata": {
    "collapsed": false
   },
   "source": [
    "### Optionally specify your own exponential family distribution\n",
    "If you wish to use your own distribution other than the ones provided, you need to provide three functions. \n",
    "* A nonlinearity (inverse link function), given by the method ```qu()```.\n",
    "* A corresponding log-likelihood, given by the method ```logL()```.\n",
    "* A corresponding gradient of the $\\mathcal{l}_2$ loss given by method ```grad_L2loss()```.\n",
    "\n",
    "Here is a example that gives each of those functions for the Poisson GLM implementation in ```pyglmnet```."
   ]
  },
  {
   "cell_type": "code",
   "execution_count": 13,
   "metadata": {
    "collapsed": true
   },
   "outputs": [],
   "source": [
    "# Example nonlinearity (aka inverse link function)\n",
    "def qu(z):\n",
    "    eps = 0.1\n",
    "    q = np.log(1+eps+np.exp(z))\n",
    "    return q\n",
    "model.qu = qu\n",
    "\n",
    "# Example log-likelihood\n",
    "def logL(beta0, beta, x, y):\n",
    "    l = model.lmb(beta0, beta, x)\n",
    "    logL = np.sum(y*np.log(l) - l)\n",
    "    return logL\n",
    "model.logL = logL\n",
    "\n",
    "# Example gradient term\n",
    "def grad_L2loss(beta0, beta, alpha, reg_lambda, x, y):\n",
    "    z = beta0 + np.dot(x, beta)\n",
    "    q = model.qu(z)\n",
    "    s = expit(z)\n",
    "    grad_beta0 = np.sum(s) - np.sum(y*s/q)\n",
    "    grad_beta = np.transpose(np.dot(np.transpose(s), x) - np.dot(np.transpose(y*s/q), x)) \\\n",
    "                + reg_lambda*(1-alpha)*beta\n",
    "    return grad_beta0, grad_beta\n",
    "model.grad_L2loss = grad_L2loss"
   ]
  },
  {
   "cell_type": "markdown",
   "metadata": {},
   "source": [
    "## **Multinomial example**"
   ]
  },
  {
   "cell_type": "code",
   "execution_count": 14,
   "metadata": {
    "collapsed": true
   },
   "outputs": [],
   "source": [
    "from sklearn.datasets import make_classification\n",
    "from pyglmnet import GLM"
   ]
  },
  {
   "cell_type": "code",
   "execution_count": 15,
   "metadata": {
    "collapsed": false
   },
   "outputs": [],
   "source": [
    "X, y = make_classification(n_samples=10000, n_classes=5, \n",
    "                           n_informative=100, n_features=100, n_redundant=0)"
   ]
  },
  {
   "cell_type": "code",
   "execution_count": 16,
   "metadata": {
    "collapsed": false
   },
   "outputs": [
    {
     "name": "stdout",
     "output_type": "stream",
     "text": [
      "0.4632\n"
     ]
    }
   ],
   "source": [
    "model_mn = GLM(distr='multinomial', alpha=0.01, \n",
    "               reg_lambda=np.array([0.02, 0.01]), verbose=False)\n",
    "model_mn.threshold = 1e-5\n",
    "model_mn.fit(X, y)\n",
    "y_pred = model_mn[-1].predict(X).argmax(axis=1)\n",
    "print (y_pred == y).mean()"
   ]
  }
 ],
 "metadata": {
  "kernelspec": {
   "display_name": "Python 2",
   "language": "python",
   "name": "python2"
  },
  "language_info": {
   "codemirror_mode": {
    "name": "ipython",
    "version": 2
   },
   "file_extension": ".py",
   "mimetype": "text/x-python",
   "name": "python",
   "nbconvert_exporter": "python",
   "pygments_lexer": "ipython2",
   "version": "2.7.11"
  }
 },
 "nbformat": 4,
 "nbformat_minor": 0
}
